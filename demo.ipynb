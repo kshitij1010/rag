{
 "cells": [
  {
   "cell_type": "markdown",
   "metadata": {},
   "source": [
    "# Quick demo of the starter code"
   ]
  },
  {
   "cell_type": "markdown",
   "metadata": {},
   "source": [
    "If you haven't downloaded the starter code and data yet, here's the command again:\n",
    "```\n",
    "wget --quiet -r -np -nH --cut-dirs=3 -A '*.txt' -A '*.py' https://www.cs.jhu.edu/~jason/465/hw-llm/\n",
    "```"
   ]
  },
  {
   "cell_type": "code",
   "execution_count": 6,
   "metadata": {},
   "outputs": [
    {
     "name": "stdout",
     "output_type": "stream",
     "text": [
      "The autoreload extension is already loaded. To reload it, use:\n",
      "  %reload_ext autoreload\n"
     ]
    }
   ],
   "source": [
    "# Executing this cell does some magic.\n",
    "%load_ext autoreload\n",
    "%autoreload 2"
   ]
  },
  {
   "cell_type": "code",
   "execution_count": 7,
   "metadata": {},
   "outputs": [
    {
     "name": "stdout",
     "output_type": "stream",
     "text": [
      "\n",
      "(angad) hello\n",
      "(Alice) Hello! Here's a conversation starter question: What's a book or movie that has had a big impact on your life, and why?\n"
     ]
    }
   ],
   "source": [
    "import argubots\n",
    "you_alice = argubots.alice.converse()"
   ]
  },
  {
   "cell_type": "code",
   "execution_count": 9,
   "metadata": {},
   "outputs": [
    {
     "data": {
      "text/plain": [
       "(Alice) Do you think it's ok to eat meat?\n",
       "(Bob) I personally believe that a vegetarian diet is the most ethical and sustainable choice.\n",
       "(Alice) I understand that perspective, but some argue that responsible and sustainable meat production can also have a place in a balanced and conscientious diet. It's important to consider various factors such as the environmental impact and ethical treatment of animals.\n",
       "(Bob) I appreciate that perspective, but I believe that plant-based diets can still meet all of our nutritional needs while reducing environmental impact and promoting compassion for animals.\n",
       "(Alice) Absolutely, plant-based diets can provide all essential nutrients and have a lower environmental impact. But it's worth considering that sustainably sourced meat can also play a role in providing important nutrients and supporting small-scale agriculture in certain regions. It's a complex issue with multiple ethical and environmental considerations.\n",
       "(Bob) I agree that it's a complex issue with many factors to consider, but I still believe that a vegetarian diet is the most effective way to promote compassion for animals and reduce our environmental impact."
      ]
     },
     "execution_count": 9,
     "metadata": {},
     "output_type": "execute_result"
    }
   ],
   "source": [
    "import agents\n",
    "import simulate\n",
    "alice_bob = simulate.simulated_dialogue(argubots.alice, agents.bob, 6)\n",
    "alice_bob   # print it out"
   ]
  },
  {
   "cell_type": "code",
   "execution_count": 10,
   "metadata": {},
   "outputs": [
    {
     "data": {
      "text/html": [
       "<pre style=\"white-space:pre;overflow-x:auto;line-height:normal;font-family:Menlo,'DejaVu Sans Mono',consolas,'Courier New',monospace\"><span style=\"color: #800080; text-decoration-color: #800080; font-weight: bold\">Character</span><span style=\"font-weight: bold\">(</span>\n",
       "    <span style=\"color: #808000; text-decoration-color: #808000\">name</span>=<span style=\"color: #008000; text-decoration-color: #008000\">'Darius'</span>,\n",
       "    <span style=\"color: #808000; text-decoration-color: #808000\">languages</span>=<span style=\"font-weight: bold\">[</span><span style=\"color: #008000; text-decoration-color: #008000\">'English'</span><span style=\"font-weight: bold\">]</span>,\n",
       "    <span style=\"color: #808000; text-decoration-color: #808000\">persona</span>=<span style=\"color: #008000; text-decoration-color: #008000\">'an intelligent and slightly arrogant public health scientist who loves fact-based arguments'</span>,\n",
       "    <span style=\"color: #808000; text-decoration-color: #808000\">conversational_style</span>=<span style=\"color: #008000; text-decoration-color: #008000\">'You like to show off your knowledge.'</span>,\n",
       "    <span style=\"color: #808000; text-decoration-color: #808000\">conversation_starters</span>=<span style=\"font-weight: bold\">[</span><span style=\"color: #008000; text-decoration-color: #008000\">'Do you think COVID vaccines should be mandatory?'</span><span style=\"font-weight: bold\">]</span>\n",
       "<span style=\"font-weight: bold\">)</span>\n",
       "</pre>\n"
      ],
      "text/plain": [
       "\u001b[1;35mCharacter\u001b[0m\u001b[1m(\u001b[0m\n",
       "    \u001b[33mname\u001b[0m=\u001b[32m'Darius'\u001b[0m,\n",
       "    \u001b[33mlanguages\u001b[0m=\u001b[1m[\u001b[0m\u001b[32m'English'\u001b[0m\u001b[1m]\u001b[0m,\n",
       "    \u001b[33mpersona\u001b[0m=\u001b[32m'an intelligent and slightly arrogant public health scientist who loves fact-based arguments'\u001b[0m,\n",
       "    \u001b[33mconversational_style\u001b[0m=\u001b[32m'You like to show off your knowledge.'\u001b[0m,\n",
       "    \u001b[33mconversation_starters\u001b[0m=\u001b[1m[\u001b[0m\u001b[32m'Do you think COVID vaccines should be mandatory?'\u001b[0m\u001b[1m]\u001b[0m\n",
       "\u001b[1m)\u001b[0m\n"
      ]
     },
     "metadata": {},
     "output_type": "display_data"
    }
   ],
   "source": [
    "import rich\n",
    "\n",
    "# Who is Darius exactly?\n",
    "rich.print(agents.darius.character) "
   ]
  },
  {
   "cell_type": "code",
   "execution_count": 11,
   "metadata": {},
   "outputs": [
    {
     "data": {
      "text/html": [
       "<pre style=\"white-space:pre;overflow-x:auto;line-height:normal;font-family:Menlo,'DejaVu Sans Mono',consolas,'Courier New',monospace\">Calling LLM:                                                                                          <a href=\"file://d:\\Code\\jhu\\nlp\\hw7\\agents.py\" target=\"_blank\"><span style=\"color: #7f7f7f; text-decoration-color: #7f7f7f\">agents.py</span></a><span style=\"color: #7f7f7f; text-decoration-color: #7f7f7f\">:</span><a href=\"file://d:\\Code\\jhu\\nlp\\hw7\\agents.py#140\" target=\"_blank\"><span style=\"color: #7f7f7f; text-decoration-color: #7f7f7f\">140</span></a>\n",
       "<span style=\"color: #000000; text-decoration-color: #000000; background-color: #ffff00; font-weight: bold\">(</span><span style=\"color: #000000; text-decoration-color: #000000; background-color: #ffff00\">system</span><span style=\"color: #000000; text-decoration-color: #000000; background-color: #ffff00; font-weight: bold\">)</span> Your name is Darius, and you prefer to speak English. You are an intelligent and slightly    <span style=\"color: #7f7f7f; text-decoration-color: #7f7f7f\">             </span>\n",
       "arrogant public health scientist who loves fact-based arguments. You like to show off your knowledge. <span style=\"color: #7f7f7f; text-decoration-color: #7f7f7f\">             </span>\n",
       "                                                                                                      <span style=\"color: #7f7f7f; text-decoration-color: #7f7f7f\">             </span>\n",
       "Reply in <span style=\"color: #008080; text-decoration-color: #008080; font-weight: bold\">1</span> sentence. Don't repeat your previous points.                                               <span style=\"color: #7f7f7f; text-decoration-color: #7f7f7f\">             </span>\n",
       "<span style=\"color: #000000; text-decoration-color: #000000; background-color: #ffff00; font-weight: bold\">(</span><span style=\"color: #000000; text-decoration-color: #000000; background-color: #ffff00\">user</span><span style=\"color: #000000; text-decoration-color: #000000; background-color: #ffff00; font-weight: bold\">)</span> Do you think COVID vaccines should be mandatory?                                               <span style=\"color: #7f7f7f; text-decoration-color: #7f7f7f\">             </span>\n",
       "</pre>\n"
      ],
      "text/plain": [
       "Calling LLM:                                                                                          \u001b]8;id=652388;file://d:\\Code\\jhu\\nlp\\hw7\\agents.py\u001b\\\u001b[2magents.py\u001b[0m\u001b]8;;\u001b\\\u001b[2m:\u001b[0m\u001b]8;id=118519;file://d:\\Code\\jhu\\nlp\\hw7\\agents.py#140\u001b\\\u001b[2m140\u001b[0m\u001b]8;;\u001b\\\n",
       "\u001b[1;30;103m(\u001b[0m\u001b[30;103msystem\u001b[0m\u001b[1;30;103m)\u001b[0m Your name is Darius, and you prefer to speak English. You are an intelligent and slightly    \u001b[2m             \u001b[0m\n",
       "arrogant public health scientist who loves fact-based arguments. You like to show off your knowledge. \u001b[2m             \u001b[0m\n",
       "                                                                                                      \u001b[2m             \u001b[0m\n",
       "Reply in \u001b[1;36m1\u001b[0m sentence. Don't repeat your previous points.                                               \u001b[2m             \u001b[0m\n",
       "\u001b[1;30;103m(\u001b[0m\u001b[30;103muser\u001b[0m\u001b[1;30;103m)\u001b[0m Do you think COVID vaccines should be mandatory?                                               \u001b[2m             \u001b[0m\n"
      ]
     },
     "metadata": {},
     "output_type": "display_data"
    },
    {
     "data": {
      "text/html": [
       "<pre style=\"white-space:pre;overflow-x:auto;line-height:normal;font-family:Menlo,'DejaVu Sans Mono',consolas,'Courier New',monospace\">Response from LLM:                                                                                    <a href=\"file://d:\\Code\\jhu\\nlp\\hw7\\agents.py\" target=\"_blank\"><span style=\"color: #7f7f7f; text-decoration-color: #7f7f7f\">agents.py</span></a><span style=\"color: #7f7f7f; text-decoration-color: #7f7f7f\">:</span><a href=\"file://d:\\Code\\jhu\\nlp\\hw7\\agents.py#170\" target=\"_blank\"><span style=\"color: #7f7f7f; text-decoration-color: #7f7f7f\">170</span></a>\n",
       "<span style=\"color: #000000; text-decoration-color: #000000; background-color: #c0c0c0\">Absolutely, mandatory COVID vaccines are crucial for achieving widespread immunity and preventing the</span> <span style=\"color: #7f7f7f; text-decoration-color: #7f7f7f\">             </span>\n",
       "<span style=\"color: #000000; text-decoration-color: #000000; background-color: #c0c0c0\">spread of the virus, as evidenced by historical success with other mandatory vaccinations.</span>            <span style=\"color: #7f7f7f; text-decoration-color: #7f7f7f\">             </span>\n",
       "</pre>\n"
      ],
      "text/plain": [
       "Response from LLM:                                                                                    \u001b]8;id=991630;file://d:\\Code\\jhu\\nlp\\hw7\\agents.py\u001b\\\u001b[2magents.py\u001b[0m\u001b]8;;\u001b\\\u001b[2m:\u001b[0m\u001b]8;id=39406;file://d:\\Code\\jhu\\nlp\\hw7\\agents.py#170\u001b\\\u001b[2m170\u001b[0m\u001b]8;;\u001b\\\n",
       "\u001b[30;47mAbsolutely, mandatory COVID vaccines are crucial for achieving widespread immunity and preventing the\u001b[0m \u001b[2m             \u001b[0m\n",
       "\u001b[30;47mspread of the virus, as evidenced by historical success with other mandatory vaccinations.\u001b[0m            \u001b[2m             \u001b[0m\n"
      ]
     },
     "metadata": {},
     "output_type": "display_data"
    },
    {
     "data": {
      "text/html": [
       "<pre style=\"white-space:pre;overflow-x:auto;line-height:normal;font-family:Menlo,'DejaVu Sans Mono',consolas,'Courier New',monospace\"><span style=\"color: #000000; text-decoration-color: #000000; background-color: #00ff00\">Chose similar claim from Kialo:</span>                                                                      <a href=\"file://d:\\Code\\jhu\\nlp\\hw7\\argubots.py\" target=\"_blank\"><span style=\"color: #7f7f7f; text-decoration-color: #7f7f7f\">argubots.py</span></a><span style=\"color: #7f7f7f; text-decoration-color: #7f7f7f\">:</span><a href=\"file://d:\\Code\\jhu\\nlp\\hw7\\argubots.py#63\" target=\"_blank\"><span style=\"color: #7f7f7f; text-decoration-color: #7f7f7f\">63</span></a>\n",
       "<span style=\"color: #000000; text-decoration-color: #000000; background-color: #00ff00\">COVID-</span><span style=\"color: #008080; text-decoration-color: #008080; background-color: #00ff00; font-weight: bold\">19</span><span style=\"color: #000000; text-decoration-color: #000000; background-color: #00ff00\"> has had negative consequences on the economy. This diminishes the well-being of many people</span> <span style=\"color: #7f7f7f; text-decoration-color: #7f7f7f\">              </span>\n",
       "<span style=\"color: #000000; text-decoration-color: #000000; background-color: #00ff00\">by reducing their incomes. Mandatory vaccination will curb the economic downturn from intensifying </span>  <span style=\"color: #7f7f7f; text-decoration-color: #7f7f7f\">              </span>\n",
       "<span style=\"color: #000000; text-decoration-color: #000000; background-color: #00ff00\">further and restore well-being by stopping the continued spread of the virus.</span>                        <span style=\"color: #7f7f7f; text-decoration-color: #7f7f7f\">              </span>\n",
       "</pre>\n"
      ],
      "text/plain": [
       "\u001b[30;102mChose similar claim from Kialo:\u001b[0m                                                                      \u001b]8;id=225610;file://d:\\Code\\jhu\\nlp\\hw7\\argubots.py\u001b\\\u001b[2margubots.py\u001b[0m\u001b]8;;\u001b\\\u001b[2m:\u001b[0m\u001b]8;id=570874;file://d:\\Code\\jhu\\nlp\\hw7\\argubots.py#63\u001b\\\u001b[2m63\u001b[0m\u001b]8;;\u001b\\\n",
       "\u001b[30;102mCOVID-\u001b[0m\u001b[1;36;102m19\u001b[0m\u001b[30;102m has had negative consequences on the economy. This diminishes the well-being of many people\u001b[0m \u001b[2m              \u001b[0m\n",
       "\u001b[30;102mby reducing their incomes. Mandatory vaccination will curb the economic downturn from intensifying \u001b[0m  \u001b[2m              \u001b[0m\n",
       "\u001b[30;102mfurther and restore well-being by stopping the continued spread of the virus.\u001b[0m                        \u001b[2m              \u001b[0m\n"
      ]
     },
     "metadata": {},
     "output_type": "display_data"
    },
    {
     "data": {
      "text/html": [
       "<pre style=\"white-space:pre;overflow-x:auto;line-height:normal;font-family:Menlo,'DejaVu Sans Mono',consolas,'Courier New',monospace\">Calling LLM:                                                                                          <a href=\"file://d:\\Code\\jhu\\nlp\\hw7\\agents.py\" target=\"_blank\"><span style=\"color: #7f7f7f; text-decoration-color: #7f7f7f\">agents.py</span></a><span style=\"color: #7f7f7f; text-decoration-color: #7f7f7f\">:</span><a href=\"file://d:\\Code\\jhu\\nlp\\hw7\\agents.py#140\" target=\"_blank\"><span style=\"color: #7f7f7f; text-decoration-color: #7f7f7f\">140</span></a>\n",
       "<span style=\"color: #000000; text-decoration-color: #000000; background-color: #ffff00; font-weight: bold\">(</span><span style=\"color: #000000; text-decoration-color: #000000; background-color: #ffff00\">system</span><span style=\"color: #000000; text-decoration-color: #000000; background-color: #ffff00; font-weight: bold\">)</span> Your name is Darius, and you prefer to speak English. You are an intelligent and slightly    <span style=\"color: #7f7f7f; text-decoration-color: #7f7f7f\">             </span>\n",
       "arrogant public health scientist who loves fact-based arguments. You like to show off your knowledge. <span style=\"color: #7f7f7f; text-decoration-color: #7f7f7f\">             </span>\n",
       "                                                                                                      <span style=\"color: #7f7f7f; text-decoration-color: #7f7f7f\">             </span>\n",
       "Reply in <span style=\"color: #008080; text-decoration-color: #008080; font-weight: bold\">1</span> sentence. Don't repeat your previous points.                                               <span style=\"color: #7f7f7f; text-decoration-color: #7f7f7f\">             </span>\n",
       "<span style=\"color: #000000; text-decoration-color: #000000; background-color: #ffff00; font-weight: bold\">(</span><span style=\"color: #000000; text-decoration-color: #000000; background-color: #ffff00\">user</span><span style=\"color: #000000; text-decoration-color: #000000; background-color: #ffff00; font-weight: bold\">)</span> Do you think COVID vaccines should be mandatory?                                               <span style=\"color: #7f7f7f; text-decoration-color: #7f7f7f\">             </span>\n",
       "<span style=\"color: #000000; text-decoration-color: #000000; background-color: #ffff00; font-weight: bold\">(</span><span style=\"color: #000000; text-decoration-color: #000000; background-color: #ffff00\">assistant</span><span style=\"color: #000000; text-decoration-color: #000000; background-color: #ffff00; font-weight: bold\">)</span> Absolutely, mandatory COVID vaccines are crucial for achieving widespread immunity and    <span style=\"color: #7f7f7f; text-decoration-color: #7f7f7f\">             </span>\n",
       "preventing the spread of the virus, as evidenced by historical success with other mandatory           <span style=\"color: #7f7f7f; text-decoration-color: #7f7f7f\">             </span>\n",
       "vaccinations.                                                                                         <span style=\"color: #7f7f7f; text-decoration-color: #7f7f7f\">             </span>\n",
       "<span style=\"color: #000000; text-decoration-color: #000000; background-color: #ffff00; font-weight: bold\">(</span><span style=\"color: #000000; text-decoration-color: #000000; background-color: #ffff00\">user</span><span style=\"color: #000000; text-decoration-color: #000000; background-color: #ffff00; font-weight: bold\">)</span> Investor confidence, a key driver of the economy, was deeply shaken by the pandemic and will   <span style=\"color: #7f7f7f; text-decoration-color: #7f7f7f\">             </span>\n",
       "recover well past when the pandemic ends.                                                             <span style=\"color: #7f7f7f; text-decoration-color: #7f7f7f\">             </span>\n",
       "</pre>\n"
      ],
      "text/plain": [
       "Calling LLM:                                                                                          \u001b]8;id=516561;file://d:\\Code\\jhu\\nlp\\hw7\\agents.py\u001b\\\u001b[2magents.py\u001b[0m\u001b]8;;\u001b\\\u001b[2m:\u001b[0m\u001b]8;id=63577;file://d:\\Code\\jhu\\nlp\\hw7\\agents.py#140\u001b\\\u001b[2m140\u001b[0m\u001b]8;;\u001b\\\n",
       "\u001b[1;30;103m(\u001b[0m\u001b[30;103msystem\u001b[0m\u001b[1;30;103m)\u001b[0m Your name is Darius, and you prefer to speak English. You are an intelligent and slightly    \u001b[2m             \u001b[0m\n",
       "arrogant public health scientist who loves fact-based arguments. You like to show off your knowledge. \u001b[2m             \u001b[0m\n",
       "                                                                                                      \u001b[2m             \u001b[0m\n",
       "Reply in \u001b[1;36m1\u001b[0m sentence. Don't repeat your previous points.                                               \u001b[2m             \u001b[0m\n",
       "\u001b[1;30;103m(\u001b[0m\u001b[30;103muser\u001b[0m\u001b[1;30;103m)\u001b[0m Do you think COVID vaccines should be mandatory?                                               \u001b[2m             \u001b[0m\n",
       "\u001b[1;30;103m(\u001b[0m\u001b[30;103massistant\u001b[0m\u001b[1;30;103m)\u001b[0m Absolutely, mandatory COVID vaccines are crucial for achieving widespread immunity and    \u001b[2m             \u001b[0m\n",
       "preventing the spread of the virus, as evidenced by historical success with other mandatory           \u001b[2m             \u001b[0m\n",
       "vaccinations.                                                                                         \u001b[2m             \u001b[0m\n",
       "\u001b[1;30;103m(\u001b[0m\u001b[30;103muser\u001b[0m\u001b[1;30;103m)\u001b[0m Investor confidence, a key driver of the economy, was deeply shaken by the pandemic and will   \u001b[2m             \u001b[0m\n",
       "recover well past when the pandemic ends.                                                             \u001b[2m             \u001b[0m\n"
      ]
     },
     "metadata": {},
     "output_type": "display_data"
    },
    {
     "data": {
      "text/html": [
       "<pre style=\"white-space:pre;overflow-x:auto;line-height:normal;font-family:Menlo,'DejaVu Sans Mono',consolas,'Courier New',monospace\">Response from LLM:                                                                                    <a href=\"file://d:\\Code\\jhu\\nlp\\hw7\\agents.py\" target=\"_blank\"><span style=\"color: #7f7f7f; text-decoration-color: #7f7f7f\">agents.py</span></a><span style=\"color: #7f7f7f; text-decoration-color: #7f7f7f\">:</span><a href=\"file://d:\\Code\\jhu\\nlp\\hw7\\agents.py#170\" target=\"_blank\"><span style=\"color: #7f7f7f; text-decoration-color: #7f7f7f\">170</span></a>\n",
       "<span style=\"color: #000000; text-decoration-color: #000000; background-color: #c0c0c0\">While investor confidence may have been initially shaken by the pandemic, historical data shows that </span> <span style=\"color: #7f7f7f; text-decoration-color: #7f7f7f\">             </span>\n",
       "<span style=\"color: #000000; text-decoration-color: #000000; background-color: #c0c0c0\">markets have rebounded strongly after previous crises, indicating that recovery is not only possible </span> <span style=\"color: #7f7f7f; text-decoration-color: #7f7f7f\">             </span>\n",
       "<span style=\"color: #000000; text-decoration-color: #000000; background-color: #c0c0c0\">but likely.</span>                                                                                           <span style=\"color: #7f7f7f; text-decoration-color: #7f7f7f\">             </span>\n",
       "</pre>\n"
      ],
      "text/plain": [
       "Response from LLM:                                                                                    \u001b]8;id=36594;file://d:\\Code\\jhu\\nlp\\hw7\\agents.py\u001b\\\u001b[2magents.py\u001b[0m\u001b]8;;\u001b\\\u001b[2m:\u001b[0m\u001b]8;id=643038;file://d:\\Code\\jhu\\nlp\\hw7\\agents.py#170\u001b\\\u001b[2m170\u001b[0m\u001b]8;;\u001b\\\n",
       "\u001b[30;47mWhile investor confidence may have been initially shaken by the pandemic, historical data shows that \u001b[0m \u001b[2m             \u001b[0m\n",
       "\u001b[30;47mmarkets have rebounded strongly after previous crises, indicating that recovery is not only possible \u001b[0m \u001b[2m             \u001b[0m\n",
       "\u001b[30;47mbut likely.\u001b[0m                                                                                           \u001b[2m             \u001b[0m\n"
      ]
     },
     "metadata": {},
     "output_type": "display_data"
    },
    {
     "data": {
      "text/html": [
       "<pre style=\"white-space:pre;overflow-x:auto;line-height:normal;font-family:Menlo,'DejaVu Sans Mono',consolas,'Courier New',monospace\"><span style=\"color: #000000; text-decoration-color: #000000; background-color: #00ff00\">Chose similar claim from Kialo:</span>                                                                      <a href=\"file://d:\\Code\\jhu\\nlp\\hw7\\argubots.py\" target=\"_blank\"><span style=\"color: #7f7f7f; text-decoration-color: #7f7f7f\">argubots.py</span></a><span style=\"color: #7f7f7f; text-decoration-color: #7f7f7f\">:</span><a href=\"file://d:\\Code\\jhu\\nlp\\hw7\\argubots.py#63\" target=\"_blank\"><span style=\"color: #7f7f7f; text-decoration-color: #7f7f7f\">63</span></a>\n",
       "<span style=\"color: #000000; text-decoration-color: #000000; background-color: #00ff00\">Women and girls have been severely impacted by the ripple effects of the pandemic.</span>                   <span style=\"color: #7f7f7f; text-decoration-color: #7f7f7f\">              </span>\n",
       "</pre>\n"
      ],
      "text/plain": [
       "\u001b[30;102mChose similar claim from Kialo:\u001b[0m                                                                      \u001b]8;id=664214;file://d:\\Code\\jhu\\nlp\\hw7\\argubots.py\u001b\\\u001b[2margubots.py\u001b[0m\u001b]8;;\u001b\\\u001b[2m:\u001b[0m\u001b]8;id=926213;file://d:\\Code\\jhu\\nlp\\hw7\\argubots.py#63\u001b\\\u001b[2m63\u001b[0m\u001b]8;;\u001b\\\n",
       "\u001b[30;102mWomen and girls have been severely impacted by the ripple effects of the pandemic.\u001b[0m                   \u001b[2m              \u001b[0m\n"
      ]
     },
     "metadata": {},
     "output_type": "display_data"
    },
    {
     "data": {
      "text/html": [
       "<pre style=\"white-space:pre;overflow-x:auto;line-height:normal;font-family:Menlo,'DejaVu Sans Mono',consolas,'Courier New',monospace\">Calling LLM:                                                                                          <a href=\"file://d:\\Code\\jhu\\nlp\\hw7\\agents.py\" target=\"_blank\"><span style=\"color: #7f7f7f; text-decoration-color: #7f7f7f\">agents.py</span></a><span style=\"color: #7f7f7f; text-decoration-color: #7f7f7f\">:</span><a href=\"file://d:\\Code\\jhu\\nlp\\hw7\\agents.py#140\" target=\"_blank\"><span style=\"color: #7f7f7f; text-decoration-color: #7f7f7f\">140</span></a>\n",
       "<span style=\"color: #000000; text-decoration-color: #000000; background-color: #ffff00; font-weight: bold\">(</span><span style=\"color: #000000; text-decoration-color: #000000; background-color: #ffff00\">system</span><span style=\"color: #000000; text-decoration-color: #000000; background-color: #ffff00; font-weight: bold\">)</span> Your name is Darius, and you prefer to speak English. You are an intelligent and slightly    <span style=\"color: #7f7f7f; text-decoration-color: #7f7f7f\">             </span>\n",
       "arrogant public health scientist who loves fact-based arguments. You like to show off your knowledge. <span style=\"color: #7f7f7f; text-decoration-color: #7f7f7f\">             </span>\n",
       "                                                                                                      <span style=\"color: #7f7f7f; text-decoration-color: #7f7f7f\">             </span>\n",
       "Reply in <span style=\"color: #008080; text-decoration-color: #008080; font-weight: bold\">1</span> sentence. Don't repeat your previous points.                                               <span style=\"color: #7f7f7f; text-decoration-color: #7f7f7f\">             </span>\n",
       "<span style=\"color: #000000; text-decoration-color: #000000; background-color: #ffff00; font-weight: bold\">(</span><span style=\"color: #000000; text-decoration-color: #000000; background-color: #ffff00\">user</span><span style=\"color: #000000; text-decoration-color: #000000; background-color: #ffff00; font-weight: bold\">)</span> Do you think COVID vaccines should be mandatory?                                               <span style=\"color: #7f7f7f; text-decoration-color: #7f7f7f\">             </span>\n",
       "<span style=\"color: #000000; text-decoration-color: #000000; background-color: #ffff00; font-weight: bold\">(</span><span style=\"color: #000000; text-decoration-color: #000000; background-color: #ffff00\">assistant</span><span style=\"color: #000000; text-decoration-color: #000000; background-color: #ffff00; font-weight: bold\">)</span> Absolutely, mandatory COVID vaccines are crucial for achieving widespread immunity and    <span style=\"color: #7f7f7f; text-decoration-color: #7f7f7f\">             </span>\n",
       "preventing the spread of the virus, as evidenced by historical success with other mandatory           <span style=\"color: #7f7f7f; text-decoration-color: #7f7f7f\">             </span>\n",
       "vaccinations.                                                                                         <span style=\"color: #7f7f7f; text-decoration-color: #7f7f7f\">             </span>\n",
       "<span style=\"color: #000000; text-decoration-color: #000000; background-color: #ffff00; font-weight: bold\">(</span><span style=\"color: #000000; text-decoration-color: #000000; background-color: #ffff00\">user</span><span style=\"color: #000000; text-decoration-color: #000000; background-color: #ffff00; font-weight: bold\">)</span> Investor confidence, a key driver of the economy, was deeply shaken by the pandemic and will   <span style=\"color: #7f7f7f; text-decoration-color: #7f7f7f\">             </span>\n",
       "recover well past when the pandemic ends.                                                             <span style=\"color: #7f7f7f; text-decoration-color: #7f7f7f\">             </span>\n",
       "<span style=\"color: #000000; text-decoration-color: #000000; background-color: #ffff00; font-weight: bold\">(</span><span style=\"color: #000000; text-decoration-color: #000000; background-color: #ffff00\">assistant</span><span style=\"color: #000000; text-decoration-color: #000000; background-color: #ffff00; font-weight: bold\">)</span> While investor confidence may have been initially shaken by the pandemic, historical data <span style=\"color: #7f7f7f; text-decoration-color: #7f7f7f\">             </span>\n",
       "shows that markets have rebounded strongly after previous crises, indicating that recovery is not     <span style=\"color: #7f7f7f; text-decoration-color: #7f7f7f\">             </span>\n",
       "only possible but likely.                                                                             <span style=\"color: #7f7f7f; text-decoration-color: #7f7f7f\">             </span>\n",
       "<span style=\"color: #000000; text-decoration-color: #000000; background-color: #ffff00; font-weight: bold\">(</span><span style=\"color: #000000; text-decoration-color: #000000; background-color: #ffff00\">user</span><span style=\"color: #000000; text-decoration-color: #000000; background-color: #ffff00; font-weight: bold\">)</span> Mass vaccinations might not solve these ripple effects without additional economic recovery    <span style=\"color: #7f7f7f; text-decoration-color: #7f7f7f\">             </span>\n",
       "measures.                                                                                             <span style=\"color: #7f7f7f; text-decoration-color: #7f7f7f\">             </span>\n",
       "</pre>\n"
      ],
      "text/plain": [
       "Calling LLM:                                                                                          \u001b]8;id=904950;file://d:\\Code\\jhu\\nlp\\hw7\\agents.py\u001b\\\u001b[2magents.py\u001b[0m\u001b]8;;\u001b\\\u001b[2m:\u001b[0m\u001b]8;id=719566;file://d:\\Code\\jhu\\nlp\\hw7\\agents.py#140\u001b\\\u001b[2m140\u001b[0m\u001b]8;;\u001b\\\n",
       "\u001b[1;30;103m(\u001b[0m\u001b[30;103msystem\u001b[0m\u001b[1;30;103m)\u001b[0m Your name is Darius, and you prefer to speak English. You are an intelligent and slightly    \u001b[2m             \u001b[0m\n",
       "arrogant public health scientist who loves fact-based arguments. You like to show off your knowledge. \u001b[2m             \u001b[0m\n",
       "                                                                                                      \u001b[2m             \u001b[0m\n",
       "Reply in \u001b[1;36m1\u001b[0m sentence. Don't repeat your previous points.                                               \u001b[2m             \u001b[0m\n",
       "\u001b[1;30;103m(\u001b[0m\u001b[30;103muser\u001b[0m\u001b[1;30;103m)\u001b[0m Do you think COVID vaccines should be mandatory?                                               \u001b[2m             \u001b[0m\n",
       "\u001b[1;30;103m(\u001b[0m\u001b[30;103massistant\u001b[0m\u001b[1;30;103m)\u001b[0m Absolutely, mandatory COVID vaccines are crucial for achieving widespread immunity and    \u001b[2m             \u001b[0m\n",
       "preventing the spread of the virus, as evidenced by historical success with other mandatory           \u001b[2m             \u001b[0m\n",
       "vaccinations.                                                                                         \u001b[2m             \u001b[0m\n",
       "\u001b[1;30;103m(\u001b[0m\u001b[30;103muser\u001b[0m\u001b[1;30;103m)\u001b[0m Investor confidence, a key driver of the economy, was deeply shaken by the pandemic and will   \u001b[2m             \u001b[0m\n",
       "recover well past when the pandemic ends.                                                             \u001b[2m             \u001b[0m\n",
       "\u001b[1;30;103m(\u001b[0m\u001b[30;103massistant\u001b[0m\u001b[1;30;103m)\u001b[0m While investor confidence may have been initially shaken by the pandemic, historical data \u001b[2m             \u001b[0m\n",
       "shows that markets have rebounded strongly after previous crises, indicating that recovery is not     \u001b[2m             \u001b[0m\n",
       "only possible but likely.                                                                             \u001b[2m             \u001b[0m\n",
       "\u001b[1;30;103m(\u001b[0m\u001b[30;103muser\u001b[0m\u001b[1;30;103m)\u001b[0m Mass vaccinations might not solve these ripple effects without additional economic recovery    \u001b[2m             \u001b[0m\n",
       "measures.                                                                                             \u001b[2m             \u001b[0m\n"
      ]
     },
     "metadata": {},
     "output_type": "display_data"
    },
    {
     "data": {
      "text/html": [
       "<pre style=\"white-space:pre;overflow-x:auto;line-height:normal;font-family:Menlo,'DejaVu Sans Mono',consolas,'Courier New',monospace\">Response from LLM:                                                                                    <a href=\"file://d:\\Code\\jhu\\nlp\\hw7\\agents.py\" target=\"_blank\"><span style=\"color: #7f7f7f; text-decoration-color: #7f7f7f\">agents.py</span></a><span style=\"color: #7f7f7f; text-decoration-color: #7f7f7f\">:</span><a href=\"file://d:\\Code\\jhu\\nlp\\hw7\\agents.py#170\" target=\"_blank\"><span style=\"color: #7f7f7f; text-decoration-color: #7f7f7f\">170</span></a>\n",
       "<span style=\"color: #000000; text-decoration-color: #000000; background-color: #c0c0c0\">While mass vaccinations are a critical component of economic recovery, additional measures such as </span>   <span style=\"color: #7f7f7f; text-decoration-color: #7f7f7f\">             </span>\n",
       "<span style=\"color: #000000; text-decoration-color: #000000; background-color: #c0c0c0\">targeted financial assistance to affected industries and continued support for small businesses will </span> <span style=\"color: #7f7f7f; text-decoration-color: #7f7f7f\">             </span>\n",
       "<span style=\"color: #000000; text-decoration-color: #000000; background-color: #c0c0c0\">be essential in addressing the broader economic impacts of the pandemic.</span>                              <span style=\"color: #7f7f7f; text-decoration-color: #7f7f7f\">             </span>\n",
       "</pre>\n"
      ],
      "text/plain": [
       "Response from LLM:                                                                                    \u001b]8;id=189507;file://d:\\Code\\jhu\\nlp\\hw7\\agents.py\u001b\\\u001b[2magents.py\u001b[0m\u001b]8;;\u001b\\\u001b[2m:\u001b[0m\u001b]8;id=121397;file://d:\\Code\\jhu\\nlp\\hw7\\agents.py#170\u001b\\\u001b[2m170\u001b[0m\u001b]8;;\u001b\\\n",
       "\u001b[30;47mWhile mass vaccinations are a critical component of economic recovery, additional measures such as \u001b[0m   \u001b[2m             \u001b[0m\n",
       "\u001b[30;47mtargeted financial assistance to affected industries and continued support for small businesses will \u001b[0m \u001b[2m             \u001b[0m\n",
       "\u001b[30;47mbe essential in addressing the broader economic impacts of the pandemic.\u001b[0m                              \u001b[2m             \u001b[0m\n"
      ]
     },
     "metadata": {},
     "output_type": "display_data"
    },
    {
     "data": {
      "text/html": [
       "<pre style=\"white-space:pre;overflow-x:auto;line-height:normal;font-family:Menlo,'DejaVu Sans Mono',consolas,'Courier New',monospace\"><span style=\"color: #c0c0c0; text-decoration-color: #c0c0c0; background-color: #000080; font-weight: bold\">(</span><span style=\"color: #c0c0c0; text-decoration-color: #c0c0c0; background-color: #000080\">Akiko</span><span style=\"color: #c0c0c0; text-decoration-color: #c0c0c0; background-color: #000080; font-weight: bold\">)</span> Do you think COVID vaccines should be mandatory?\n",
       "<span style=\"color: #c0c0c0; text-decoration-color: #c0c0c0; background-color: #000080; font-weight: bold\">(</span><span style=\"color: #c0c0c0; text-decoration-color: #c0c0c0; background-color: #000080\">Darius</span><span style=\"color: #c0c0c0; text-decoration-color: #c0c0c0; background-color: #000080; font-weight: bold\">)</span> Absolutely, mandatory COVID vaccines are crucial for achieving widespread immunity and preventing the \n",
       "spread of the virus, as evidenced by historical success with other mandatory vaccinations.\n",
       "<span style=\"color: #c0c0c0; text-decoration-color: #c0c0c0; background-color: #000080; font-weight: bold\">(</span><span style=\"color: #c0c0c0; text-decoration-color: #c0c0c0; background-color: #000080\">Akiko</span><span style=\"color: #c0c0c0; text-decoration-color: #c0c0c0; background-color: #000080; font-weight: bold\">)</span> Investor confidence, a key driver of the economy, was deeply shaken by the pandemic and will recover well \n",
       "past when the pandemic ends.\n",
       "<span style=\"color: #c0c0c0; text-decoration-color: #c0c0c0; background-color: #000080; font-weight: bold\">(</span><span style=\"color: #c0c0c0; text-decoration-color: #c0c0c0; background-color: #000080\">Darius</span><span style=\"color: #c0c0c0; text-decoration-color: #c0c0c0; background-color: #000080; font-weight: bold\">)</span> While investor confidence may have been initially shaken by the pandemic, historical data shows that \n",
       "markets have rebounded strongly after previous crises, indicating that recovery is not only possible but likely.\n",
       "<span style=\"color: #c0c0c0; text-decoration-color: #c0c0c0; background-color: #000080; font-weight: bold\">(</span><span style=\"color: #c0c0c0; text-decoration-color: #c0c0c0; background-color: #000080\">Akiko</span><span style=\"color: #c0c0c0; text-decoration-color: #c0c0c0; background-color: #000080; font-weight: bold\">)</span> Mass vaccinations might not solve these ripple effects without additional economic recovery measures.\n",
       "<span style=\"color: #c0c0c0; text-decoration-color: #c0c0c0; background-color: #000080; font-weight: bold\">(</span><span style=\"color: #c0c0c0; text-decoration-color: #c0c0c0; background-color: #000080\">Darius</span><span style=\"color: #c0c0c0; text-decoration-color: #c0c0c0; background-color: #000080; font-weight: bold\">)</span> While mass vaccinations are a critical component of economic recovery, additional measures such as \n",
       "targeted financial assistance to affected industries and continued support for small businesses will be essential \n",
       "in addressing the broader economic impacts of the pandemic.\n",
       "</pre>\n"
      ],
      "text/plain": [
       "\u001b[1;37;44m(\u001b[0m\u001b[37;44mAkiko\u001b[0m\u001b[1;37;44m)\u001b[0m Do you think COVID vaccines should be mandatory?\n",
       "\u001b[1;37;44m(\u001b[0m\u001b[37;44mDarius\u001b[0m\u001b[1;37;44m)\u001b[0m Absolutely, mandatory COVID vaccines are crucial for achieving widespread immunity and preventing the \n",
       "spread of the virus, as evidenced by historical success with other mandatory vaccinations.\n",
       "\u001b[1;37;44m(\u001b[0m\u001b[37;44mAkiko\u001b[0m\u001b[1;37;44m)\u001b[0m Investor confidence, a key driver of the economy, was deeply shaken by the pandemic and will recover well \n",
       "past when the pandemic ends.\n",
       "\u001b[1;37;44m(\u001b[0m\u001b[37;44mDarius\u001b[0m\u001b[1;37;44m)\u001b[0m While investor confidence may have been initially shaken by the pandemic, historical data shows that \n",
       "markets have rebounded strongly after previous crises, indicating that recovery is not only possible but likely.\n",
       "\u001b[1;37;44m(\u001b[0m\u001b[37;44mAkiko\u001b[0m\u001b[1;37;44m)\u001b[0m Mass vaccinations might not solve these ripple effects without additional economic recovery measures.\n",
       "\u001b[1;37;44m(\u001b[0m\u001b[37;44mDarius\u001b[0m\u001b[1;37;44m)\u001b[0m While mass vaccinations are a critical component of economic recovery, additional measures such as \n",
       "targeted financial assistance to affected industries and continued support for small businesses will be essential \n",
       "in addressing the broader economic impacts of the pandemic.\n"
      ]
     },
     "metadata": {},
     "output_type": "display_data"
    }
   ],
   "source": [
    "from logging_cm import LoggingContext\n",
    "\n",
    "# Have Akiko talk to Darius and spy on the back-end messages to/from the LLM server.\n",
    "with LoggingContext(\"agents\", \"INFO\"):   # temporarily increase logging level (use \"DEBUG\" for even more detail)\n",
    "    akiko_darius = simulate.simulated_dialogue(argubots.akiko, agents.darius, 6)\n",
    "\n",
    "rich.print(akiko_darius)"
   ]
  },
  {
   "cell_type": "code",
   "execution_count": 12,
   "metadata": {},
   "outputs": [
    {
     "data": {
      "text/html": [
       "<pre style=\"white-space:pre;overflow-x:auto;line-height:normal;font-family:Menlo,'DejaVu Sans Mono',consolas,'Courier New',monospace\">&lt;Eval of ≈ <span style=\"color: #008080; text-decoration-color: #008080; font-weight: bold\">1</span> dialogues:\n",
       "<span style=\"font-weight: bold\">{</span><span style=\"color: #008000; text-decoration-color: #008000\">'engaged'</span>: <span style=\"color: #008080; text-decoration-color: #008080; font-weight: bold\">4.0</span>, <span style=\"color: #008000; text-decoration-color: #008000\">'informed'</span>: <span style=\"color: #008080; text-decoration-color: #008080; font-weight: bold\">3.0</span>, <span style=\"color: #008000; text-decoration-color: #008000\">'intelligent'</span>: <span style=\"color: #008080; text-decoration-color: #008080; font-weight: bold\">3.0</span>, <span style=\"color: #008000; text-decoration-color: #008000\">'moral'</span>: <span style=\"color: #008080; text-decoration-color: #008080; font-weight: bold\">3.0</span>, <span style=\"color: #008000; text-decoration-color: #008000\">'TOTAL'</span>: <span style=\"color: #008080; text-decoration-color: #008080; font-weight: bold\">13.0</span><span style=\"font-weight: bold\">}</span>\n",
       "\n",
       "Comments from overview question:\n",
       "<span style=\"font-weight: bold\">(</span>Darius<span style=\"font-weight: bold\">)</span> Akiko disagreed with me on the potential impact of mandatory COVID vaccines on economic recovery. In my \n",
       "opinion, the conversation was a respectful exchange of differing viewpoints, with each of us presenting evidence to\n",
       "support our arguments. However, Akiko could have strengthened her argument by providing more concrete evidence or \n",
       "data to support her perspective on the economic impact of mandatory COVID vaccines.\n",
       "</pre>\n"
      ],
      "text/plain": [
       "<Eval of ≈ \u001b[1;36m1\u001b[0m dialogues:\n",
       "\u001b[1m{\u001b[0m\u001b[32m'engaged'\u001b[0m: \u001b[1;36m4.0\u001b[0m, \u001b[32m'informed'\u001b[0m: \u001b[1;36m3.0\u001b[0m, \u001b[32m'intelligent'\u001b[0m: \u001b[1;36m3.0\u001b[0m, \u001b[32m'moral'\u001b[0m: \u001b[1;36m3.0\u001b[0m, \u001b[32m'TOTAL'\u001b[0m: \u001b[1;36m13.0\u001b[0m\u001b[1m}\u001b[0m\n",
       "\n",
       "Comments from overview question:\n",
       "\u001b[1m(\u001b[0mDarius\u001b[1m)\u001b[0m Akiko disagreed with me on the potential impact of mandatory COVID vaccines on economic recovery. In my \n",
       "opinion, the conversation was a respectful exchange of differing viewpoints, with each of us presenting evidence to\n",
       "support our arguments. However, Akiko could have strengthened her argument by providing more concrete evidence or \n",
       "data to support her perspective on the economic impact of mandatory COVID vaccines.\n"
      ]
     },
     "metadata": {},
     "output_type": "display_data"
    }
   ],
   "source": [
    "import characters\n",
    "from agents import EvaluationAgent\n",
    "import eval\n",
    "\n",
    "rich.print(eval.eval_by_participant(characters.darius, \"Akiko\", akiko_darius))"
   ]
  },
  {
   "cell_type": "code",
   "execution_count": 13,
   "metadata": {},
   "outputs": [
    {
     "data": {
      "text/html": [
       "<pre style=\"white-space:pre;overflow-x:auto;line-height:normal;font-family:Menlo,'DejaVu Sans Mono',consolas,'Courier New',monospace\">&lt;Eval of ≈ <span style=\"color: #008080; text-decoration-color: #008080; font-weight: bold\">1</span> dialogues:\n",
       "<span style=\"font-weight: bold\">{</span><span style=\"color: #008000; text-decoration-color: #008000\">'skilled'</span>: <span style=\"color: #008080; text-decoration-color: #008080; font-weight: bold\">7.0</span>, <span style=\"color: #008000; text-decoration-color: #008000\">'TOTAL'</span>: <span style=\"color: #008080; text-decoration-color: #008080; font-weight: bold\">7.0</span><span style=\"font-weight: bold\">}</span>\n",
       "\n",
       "Comments from mindopening question:\n",
       "<span style=\"font-weight: bold\">(</span>Judge Wise<span style=\"font-weight: bold\">)</span> Akiko offered new perspectives related to the long-term economic impacts of the pandemic and the \n",
       "potential limitations of mass vaccinations in addressing these effects. She highlighted the importance of investor \n",
       "confidence and additional economic recovery measures. Darius also acknowledged the need for additional economic \n",
       "recovery measures alongside mass vaccinations. Overall, Akiko's efforts to broaden the conversation to consider the\n",
       "broader economic impacts were successful.\n",
       "</pre>\n"
      ],
      "text/plain": [
       "<Eval of ≈ \u001b[1;36m1\u001b[0m dialogues:\n",
       "\u001b[1m{\u001b[0m\u001b[32m'skilled'\u001b[0m: \u001b[1;36m7.0\u001b[0m, \u001b[32m'TOTAL'\u001b[0m: \u001b[1;36m7.0\u001b[0m\u001b[1m}\u001b[0m\n",
       "\n",
       "Comments from mindopening question:\n",
       "\u001b[1m(\u001b[0mJudge Wise\u001b[1m)\u001b[0m Akiko offered new perspectives related to the long-term economic impacts of the pandemic and the \n",
       "potential limitations of mass vaccinations in addressing these effects. She highlighted the importance of investor \n",
       "confidence and additional economic recovery measures. Darius also acknowledged the need for additional economic \n",
       "recovery measures alongside mass vaccinations. Overall, Akiko's efforts to broaden the conversation to consider the\n",
       "broader economic impacts were successful.\n"
      ]
     },
     "metadata": {},
     "output_type": "display_data"
    }
   ],
   "source": [
    "rich.print(eval.eval_by_observer(eval.judge, \"Akiko\", akiko_darius))"
   ]
  },
  {
   "cell_type": "code",
   "execution_count": 14,
   "metadata": {},
   "outputs": [
    {
     "data": {
      "text/html": [
       "<pre style=\"white-space:pre;overflow-x:auto;line-height:normal;font-family:Menlo,'DejaVu Sans Mono',consolas,'Courier New',monospace\">Calling LLM:                                                                                          <a href=\"file://d:\\Code\\jhu\\nlp\\hw7\\agents.py\" target=\"_blank\"><span style=\"color: #7f7f7f; text-decoration-color: #7f7f7f\">agents.py</span></a><span style=\"color: #7f7f7f; text-decoration-color: #7f7f7f\">:</span><a href=\"file://d:\\Code\\jhu\\nlp\\hw7\\agents.py#140\" target=\"_blank\"><span style=\"color: #7f7f7f; text-decoration-color: #7f7f7f\">140</span></a>\n",
       "<span style=\"color: #000000; text-decoration-color: #000000; background-color: #ffff00; font-weight: bold\">(</span><span style=\"color: #000000; text-decoration-color: #000000; background-color: #ffff00\">system</span><span style=\"color: #000000; text-decoration-color: #000000; background-color: #ffff00; font-weight: bold\">)</span> Your name is Darius and you are an intelligent and slightly arrogant public health scientist <span style=\"color: #7f7f7f; text-decoration-color: #7f7f7f\">             </span>\n",
       "who loves fact-based arguments.                                                                       <span style=\"color: #7f7f7f; text-decoration-color: #7f7f7f\">             </span>\n",
       "                                                                                                      <span style=\"color: #7f7f7f; text-decoration-color: #7f7f7f\">             </span>\n",
       "The user will show you a conversation and ask you a few questions about it. Answer them concisely and <span style=\"color: #7f7f7f; text-decoration-color: #7f7f7f\">             </span>\n",
       "honestly.                                                                                             <span style=\"color: #7f7f7f; text-decoration-color: #7f7f7f\">             </span>\n",
       "<span style=\"color: #000000; text-decoration-color: #000000; background-color: #ffff00; font-weight: bold\">(</span><span style=\"color: #000000; text-decoration-color: #000000; background-color: #ffff00\">user</span><span style=\"color: #000000; text-decoration-color: #000000; background-color: #ffff00; font-weight: bold\">)</span> Hello Darius!  Here is a conversation that you had with Akiko.                                 <span style=\"color: #7f7f7f; text-decoration-color: #7f7f7f\">             </span>\n",
       "                                                                                                      <span style=\"color: #7f7f7f; text-decoration-color: #7f7f7f\">             </span>\n",
       "<span style=\"color: #008000; text-decoration-color: #008000\">\"\"</span>\"                                                                                                   <span style=\"color: #7f7f7f; text-decoration-color: #7f7f7f\">             </span>\n",
       "Akiko: Do you think COVID vaccines should be mandatory?                                               <span style=\"color: #7f7f7f; text-decoration-color: #7f7f7f\">             </span>\n",
       "                                                                                                      <span style=\"color: #7f7f7f; text-decoration-color: #7f7f7f\">             </span>\n",
       "Darius: Absolutely, mandatory COVID vaccines are crucial for achieving widespread immunity and        <span style=\"color: #7f7f7f; text-decoration-color: #7f7f7f\">             </span>\n",
       "preventing the spread of the virus, as evidenced by historical success with other mandatory           <span style=\"color: #7f7f7f; text-decoration-color: #7f7f7f\">             </span>\n",
       "vaccinations.                                                                                         <span style=\"color: #7f7f7f; text-decoration-color: #7f7f7f\">             </span>\n",
       "                                                                                                      <span style=\"color: #7f7f7f; text-decoration-color: #7f7f7f\">             </span>\n",
       "Akiko: Investor confidence, a key driver of the economy, was deeply shaken by the pandemic and will   <span style=\"color: #7f7f7f; text-decoration-color: #7f7f7f\">             </span>\n",
       "recover well past when the pandemic ends.                                                             <span style=\"color: #7f7f7f; text-decoration-color: #7f7f7f\">             </span>\n",
       "                                                                                                      <span style=\"color: #7f7f7f; text-decoration-color: #7f7f7f\">             </span>\n",
       "Darius: While investor confidence may have been initially shaken by the pandemic, historical data     <span style=\"color: #7f7f7f; text-decoration-color: #7f7f7f\">             </span>\n",
       "shows that markets have rebounded strongly after previous crises, indicating that recovery is not     <span style=\"color: #7f7f7f; text-decoration-color: #7f7f7f\">             </span>\n",
       "only possible but likely.                                                                             <span style=\"color: #7f7f7f; text-decoration-color: #7f7f7f\">             </span>\n",
       "                                                                                                      <span style=\"color: #7f7f7f; text-decoration-color: #7f7f7f\">             </span>\n",
       "Akiko: Mass vaccinations might not solve these ripple effects without additional economic recovery    <span style=\"color: #7f7f7f; text-decoration-color: #7f7f7f\">             </span>\n",
       "measures.                                                                                             <span style=\"color: #7f7f7f; text-decoration-color: #7f7f7f\">             </span>\n",
       "                                                                                                      <span style=\"color: #7f7f7f; text-decoration-color: #7f7f7f\">             </span>\n",
       "Darius: While mass vaccinations are a critical component of economic recovery, additional measures    <span style=\"color: #7f7f7f; text-decoration-color: #7f7f7f\">             </span>\n",
       "such as targeted financial assistance to affected industries and continued support for small          <span style=\"color: #7f7f7f; text-decoration-color: #7f7f7f\">             </span>\n",
       "businesses will be essential in addressing the broader economic impacts of the pandemic.              <span style=\"color: #7f7f7f; text-decoration-color: #7f7f7f\">             </span>\n",
       "<span style=\"color: #008000; text-decoration-color: #008000\">\"\"</span>\"                                                                                                   <span style=\"color: #7f7f7f; text-decoration-color: #7f7f7f\">             </span>\n",
       "                                                                                                      <span style=\"color: #7f7f7f; text-decoration-color: #7f7f7f\">             </span>\n",
       "What did Akiko disagree with you about? How did the conversation go, in your opinion? Where could     <span style=\"color: #7f7f7f; text-decoration-color: #7f7f7f\">             </span>\n",
       "Akiko have done better?                                                                               <span style=\"color: #7f7f7f; text-decoration-color: #7f7f7f\">             </span>\n",
       "</pre>\n"
      ],
      "text/plain": [
       "Calling LLM:                                                                                          \u001b]8;id=828621;file://d:\\Code\\jhu\\nlp\\hw7\\agents.py\u001b\\\u001b[2magents.py\u001b[0m\u001b]8;;\u001b\\\u001b[2m:\u001b[0m\u001b]8;id=999353;file://d:\\Code\\jhu\\nlp\\hw7\\agents.py#140\u001b\\\u001b[2m140\u001b[0m\u001b]8;;\u001b\\\n",
       "\u001b[1;30;103m(\u001b[0m\u001b[30;103msystem\u001b[0m\u001b[1;30;103m)\u001b[0m Your name is Darius and you are an intelligent and slightly arrogant public health scientist \u001b[2m             \u001b[0m\n",
       "who loves fact-based arguments.                                                                       \u001b[2m             \u001b[0m\n",
       "                                                                                                      \u001b[2m             \u001b[0m\n",
       "The user will show you a conversation and ask you a few questions about it. Answer them concisely and \u001b[2m             \u001b[0m\n",
       "honestly.                                                                                             \u001b[2m             \u001b[0m\n",
       "\u001b[1;30;103m(\u001b[0m\u001b[30;103muser\u001b[0m\u001b[1;30;103m)\u001b[0m Hello Darius!  Here is a conversation that you had with Akiko.                                 \u001b[2m             \u001b[0m\n",
       "                                                                                                      \u001b[2m             \u001b[0m\n",
       "\u001b[32m\"\"\u001b[0m\"                                                                                                   \u001b[2m             \u001b[0m\n",
       "Akiko: Do you think COVID vaccines should be mandatory?                                               \u001b[2m             \u001b[0m\n",
       "                                                                                                      \u001b[2m             \u001b[0m\n",
       "Darius: Absolutely, mandatory COVID vaccines are crucial for achieving widespread immunity and        \u001b[2m             \u001b[0m\n",
       "preventing the spread of the virus, as evidenced by historical success with other mandatory           \u001b[2m             \u001b[0m\n",
       "vaccinations.                                                                                         \u001b[2m             \u001b[0m\n",
       "                                                                                                      \u001b[2m             \u001b[0m\n",
       "Akiko: Investor confidence, a key driver of the economy, was deeply shaken by the pandemic and will   \u001b[2m             \u001b[0m\n",
       "recover well past when the pandemic ends.                                                             \u001b[2m             \u001b[0m\n",
       "                                                                                                      \u001b[2m             \u001b[0m\n",
       "Darius: While investor confidence may have been initially shaken by the pandemic, historical data     \u001b[2m             \u001b[0m\n",
       "shows that markets have rebounded strongly after previous crises, indicating that recovery is not     \u001b[2m             \u001b[0m\n",
       "only possible but likely.                                                                             \u001b[2m             \u001b[0m\n",
       "                                                                                                      \u001b[2m             \u001b[0m\n",
       "Akiko: Mass vaccinations might not solve these ripple effects without additional economic recovery    \u001b[2m             \u001b[0m\n",
       "measures.                                                                                             \u001b[2m             \u001b[0m\n",
       "                                                                                                      \u001b[2m             \u001b[0m\n",
       "Darius: While mass vaccinations are a critical component of economic recovery, additional measures    \u001b[2m             \u001b[0m\n",
       "such as targeted financial assistance to affected industries and continued support for small          \u001b[2m             \u001b[0m\n",
       "businesses will be essential in addressing the broader economic impacts of the pandemic.              \u001b[2m             \u001b[0m\n",
       "\u001b[32m\"\"\u001b[0m\"                                                                                                   \u001b[2m             \u001b[0m\n",
       "                                                                                                      \u001b[2m             \u001b[0m\n",
       "What did Akiko disagree with you about? How did the conversation go, in your opinion? Where could     \u001b[2m             \u001b[0m\n",
       "Akiko have done better?                                                                               \u001b[2m             \u001b[0m\n"
      ]
     },
     "metadata": {},
     "output_type": "display_data"
    },
    {
     "data": {
      "text/html": [
       "<pre style=\"white-space:pre;overflow-x:auto;line-height:normal;font-family:Menlo,'DejaVu Sans Mono',consolas,'Courier New',monospace\">Response from LLM:                                                                                    <a href=\"file://d:\\Code\\jhu\\nlp\\hw7\\agents.py\" target=\"_blank\"><span style=\"color: #7f7f7f; text-decoration-color: #7f7f7f\">agents.py</span></a><span style=\"color: #7f7f7f; text-decoration-color: #7f7f7f\">:</span><a href=\"file://d:\\Code\\jhu\\nlp\\hw7\\agents.py#170\" target=\"_blank\"><span style=\"color: #7f7f7f; text-decoration-color: #7f7f7f\">170</span></a>\n",
       "<span style=\"color: #000000; text-decoration-color: #000000; background-color: #c0c0c0\">Akiko disagreed with my assertion that mandatory COVID vaccines are crucial for achieving widespread </span> <span style=\"color: #7f7f7f; text-decoration-color: #7f7f7f\">             </span>\n",
       "<span style=\"color: #000000; text-decoration-color: #000000; background-color: #c0c0c0\">immunity and preventing the spread of the virus. In my opinion, the conversation was informative and </span> <span style=\"color: #7f7f7f; text-decoration-color: #7f7f7f\">             </span>\n",
       "<span style=\"color: #000000; text-decoration-color: #000000; background-color: #c0c0c0\">civil, with both of us presenting factual arguments to support our positions. However, Akiko could </span>   <span style=\"color: #7f7f7f; text-decoration-color: #7f7f7f\">             </span>\n",
       "<span style=\"color: #000000; text-decoration-color: #000000; background-color: #c0c0c0\">have strengthened her arguments by providing more specific evidence or examples to support her </span>       <span style=\"color: #7f7f7f; text-decoration-color: #7f7f7f\">             </span>\n",
       "<span style=\"color: #000000; text-decoration-color: #000000; background-color: #c0c0c0\">viewpoints.</span>                                                                                           <span style=\"color: #7f7f7f; text-decoration-color: #7f7f7f\">             </span>\n",
       "</pre>\n"
      ],
      "text/plain": [
       "Response from LLM:                                                                                    \u001b]8;id=358582;file://d:\\Code\\jhu\\nlp\\hw7\\agents.py\u001b\\\u001b[2magents.py\u001b[0m\u001b]8;;\u001b\\\u001b[2m:\u001b[0m\u001b]8;id=274366;file://d:\\Code\\jhu\\nlp\\hw7\\agents.py#170\u001b\\\u001b[2m170\u001b[0m\u001b]8;;\u001b\\\n",
       "\u001b[30;47mAkiko disagreed with my assertion that mandatory COVID vaccines are crucial for achieving widespread \u001b[0m \u001b[2m             \u001b[0m\n",
       "\u001b[30;47mimmunity and preventing the spread of the virus. In my opinion, the conversation was informative and \u001b[0m \u001b[2m             \u001b[0m\n",
       "\u001b[30;47mcivil, with both of us presenting factual arguments to support our positions. However, Akiko could \u001b[0m   \u001b[2m             \u001b[0m\n",
       "\u001b[30;47mhave strengthened her arguments by providing more specific evidence or examples to support her \u001b[0m       \u001b[2m             \u001b[0m\n",
       "\u001b[30;47mviewpoints.\u001b[0m                                                                                           \u001b[2m             \u001b[0m\n"
      ]
     },
     "metadata": {},
     "output_type": "display_data"
    },
    {
     "data": {
      "text/html": [
       "<pre style=\"white-space:pre;overflow-x:auto;line-height:normal;font-family:Menlo,'DejaVu Sans Mono',consolas,'Courier New',monospace\">Calling LLM:                                                                                          <a href=\"file://d:\\Code\\jhu\\nlp\\hw7\\agents.py\" target=\"_blank\"><span style=\"color: #7f7f7f; text-decoration-color: #7f7f7f\">agents.py</span></a><span style=\"color: #7f7f7f; text-decoration-color: #7f7f7f\">:</span><a href=\"file://d:\\Code\\jhu\\nlp\\hw7\\agents.py#140\" target=\"_blank\"><span style=\"color: #7f7f7f; text-decoration-color: #7f7f7f\">140</span></a>\n",
       "<span style=\"color: #000000; text-decoration-color: #000000; background-color: #ffff00; font-weight: bold\">(</span><span style=\"color: #000000; text-decoration-color: #000000; background-color: #ffff00\">system</span><span style=\"color: #000000; text-decoration-color: #000000; background-color: #ffff00; font-weight: bold\">)</span> Your name is Darius and you are an intelligent and slightly arrogant public health scientist <span style=\"color: #7f7f7f; text-decoration-color: #7f7f7f\">             </span>\n",
       "who loves fact-based arguments.                                                                       <span style=\"color: #7f7f7f; text-decoration-color: #7f7f7f\">             </span>\n",
       "                                                                                                      <span style=\"color: #7f7f7f; text-decoration-color: #7f7f7f\">             </span>\n",
       "The user will show you a conversation and ask you a few questions about it. Answer them concisely and <span style=\"color: #7f7f7f; text-decoration-color: #7f7f7f\">             </span>\n",
       "honestly.                                                                                             <span style=\"color: #7f7f7f; text-decoration-color: #7f7f7f\">             </span>\n",
       "<span style=\"color: #000000; text-decoration-color: #000000; background-color: #ffff00; font-weight: bold\">(</span><span style=\"color: #000000; text-decoration-color: #000000; background-color: #ffff00\">user</span><span style=\"color: #000000; text-decoration-color: #000000; background-color: #ffff00; font-weight: bold\">)</span> Hello Darius!  Here is a conversation that you had with Akiko.                                 <span style=\"color: #7f7f7f; text-decoration-color: #7f7f7f\">             </span>\n",
       "                                                                                                      <span style=\"color: #7f7f7f; text-decoration-color: #7f7f7f\">             </span>\n",
       "<span style=\"color: #008000; text-decoration-color: #008000\">\"\"</span>\"                                                                                                   <span style=\"color: #7f7f7f; text-decoration-color: #7f7f7f\">             </span>\n",
       "Akiko: Do you think COVID vaccines should be mandatory?                                               <span style=\"color: #7f7f7f; text-decoration-color: #7f7f7f\">             </span>\n",
       "                                                                                                      <span style=\"color: #7f7f7f; text-decoration-color: #7f7f7f\">             </span>\n",
       "Darius: Absolutely, mandatory COVID vaccines are crucial for achieving widespread immunity and        <span style=\"color: #7f7f7f; text-decoration-color: #7f7f7f\">             </span>\n",
       "preventing the spread of the virus, as evidenced by historical success with other mandatory           <span style=\"color: #7f7f7f; text-decoration-color: #7f7f7f\">             </span>\n",
       "vaccinations.                                                                                         <span style=\"color: #7f7f7f; text-decoration-color: #7f7f7f\">             </span>\n",
       "                                                                                                      <span style=\"color: #7f7f7f; text-decoration-color: #7f7f7f\">             </span>\n",
       "Akiko: Investor confidence, a key driver of the economy, was deeply shaken by the pandemic and will   <span style=\"color: #7f7f7f; text-decoration-color: #7f7f7f\">             </span>\n",
       "recover well past when the pandemic ends.                                                             <span style=\"color: #7f7f7f; text-decoration-color: #7f7f7f\">             </span>\n",
       "                                                                                                      <span style=\"color: #7f7f7f; text-decoration-color: #7f7f7f\">             </span>\n",
       "Darius: While investor confidence may have been initially shaken by the pandemic, historical data     <span style=\"color: #7f7f7f; text-decoration-color: #7f7f7f\">             </span>\n",
       "shows that markets have rebounded strongly after previous crises, indicating that recovery is not     <span style=\"color: #7f7f7f; text-decoration-color: #7f7f7f\">             </span>\n",
       "only possible but likely.                                                                             <span style=\"color: #7f7f7f; text-decoration-color: #7f7f7f\">             </span>\n",
       "                                                                                                      <span style=\"color: #7f7f7f; text-decoration-color: #7f7f7f\">             </span>\n",
       "Akiko: Mass vaccinations might not solve these ripple effects without additional economic recovery    <span style=\"color: #7f7f7f; text-decoration-color: #7f7f7f\">             </span>\n",
       "measures.                                                                                             <span style=\"color: #7f7f7f; text-decoration-color: #7f7f7f\">             </span>\n",
       "                                                                                                      <span style=\"color: #7f7f7f; text-decoration-color: #7f7f7f\">             </span>\n",
       "Darius: While mass vaccinations are a critical component of economic recovery, additional measures    <span style=\"color: #7f7f7f; text-decoration-color: #7f7f7f\">             </span>\n",
       "such as targeted financial assistance to affected industries and continued support for small          <span style=\"color: #7f7f7f; text-decoration-color: #7f7f7f\">             </span>\n",
       "businesses will be essential in addressing the broader economic impacts of the pandemic.              <span style=\"color: #7f7f7f; text-decoration-color: #7f7f7f\">             </span>\n",
       "<span style=\"color: #008000; text-decoration-color: #008000\">\"\"</span>\"                                                                                                   <span style=\"color: #7f7f7f; text-decoration-color: #7f7f7f\">             </span>\n",
       "                                                                                                      <span style=\"color: #7f7f7f; text-decoration-color: #7f7f7f\">             </span>\n",
       "What did Akiko disagree with you about? How did the conversation go, in your opinion? Where could     <span style=\"color: #7f7f7f; text-decoration-color: #7f7f7f\">             </span>\n",
       "Akiko have done better?                                                                               <span style=\"color: #7f7f7f; text-decoration-color: #7f7f7f\">             </span>\n",
       "<span style=\"color: #000000; text-decoration-color: #000000; background-color: #ffff00; font-weight: bold\">(</span><span style=\"color: #000000; text-decoration-color: #000000; background-color: #ffff00\">assistant</span><span style=\"color: #000000; text-decoration-color: #000000; background-color: #ffff00; font-weight: bold\">)</span> Akiko disagreed with my assertion that mandatory COVID vaccines are crucial for achieving <span style=\"color: #7f7f7f; text-decoration-color: #7f7f7f\">             </span>\n",
       "widespread immunity and preventing the spread of the virus. In my opinion, the conversation was       <span style=\"color: #7f7f7f; text-decoration-color: #7f7f7f\">             </span>\n",
       "informative and civil, with both of us presenting factual arguments to support our positions.         <span style=\"color: #7f7f7f; text-decoration-color: #7f7f7f\">             </span>\n",
       "However, Akiko could have strengthened her arguments by providing more specific evidence or examples  <span style=\"color: #7f7f7f; text-decoration-color: #7f7f7f\">             </span>\n",
       "to support her viewpoints.                                                                            <span style=\"color: #7f7f7f; text-decoration-color: #7f7f7f\">             </span>\n",
       "<span style=\"color: #000000; text-decoration-color: #000000; background-color: #ffff00; font-weight: bold\">(</span><span style=\"color: #000000; text-decoration-color: #000000; background-color: #ffff00\">user</span><span style=\"color: #000000; text-decoration-color: #000000; background-color: #ffff00; font-weight: bold\">)</span> Did Akiko listen carefully to you and engage with what you were saying?                        <span style=\"color: #7f7f7f; text-decoration-color: #7f7f7f\">             </span>\n",
       "                                                                                                      <span style=\"color: #7f7f7f; text-decoration-color: #7f7f7f\">             </span>\n",
       "Reply with a single integer in the range <span style=\"color: #008080; text-decoration-color: #008080; font-weight: bold\">1</span>-<span style=\"color: #008080; text-decoration-color: #008080; font-weight: bold\">5</span>. Say nothing else.                                       <span style=\"color: #7f7f7f; text-decoration-color: #7f7f7f\">             </span>\n",
       "</pre>\n"
      ],
      "text/plain": [
       "Calling LLM:                                                                                          \u001b]8;id=931201;file://d:\\Code\\jhu\\nlp\\hw7\\agents.py\u001b\\\u001b[2magents.py\u001b[0m\u001b]8;;\u001b\\\u001b[2m:\u001b[0m\u001b]8;id=747719;file://d:\\Code\\jhu\\nlp\\hw7\\agents.py#140\u001b\\\u001b[2m140\u001b[0m\u001b]8;;\u001b\\\n",
       "\u001b[1;30;103m(\u001b[0m\u001b[30;103msystem\u001b[0m\u001b[1;30;103m)\u001b[0m Your name is Darius and you are an intelligent and slightly arrogant public health scientist \u001b[2m             \u001b[0m\n",
       "who loves fact-based arguments.                                                                       \u001b[2m             \u001b[0m\n",
       "                                                                                                      \u001b[2m             \u001b[0m\n",
       "The user will show you a conversation and ask you a few questions about it. Answer them concisely and \u001b[2m             \u001b[0m\n",
       "honestly.                                                                                             \u001b[2m             \u001b[0m\n",
       "\u001b[1;30;103m(\u001b[0m\u001b[30;103muser\u001b[0m\u001b[1;30;103m)\u001b[0m Hello Darius!  Here is a conversation that you had with Akiko.                                 \u001b[2m             \u001b[0m\n",
       "                                                                                                      \u001b[2m             \u001b[0m\n",
       "\u001b[32m\"\"\u001b[0m\"                                                                                                   \u001b[2m             \u001b[0m\n",
       "Akiko: Do you think COVID vaccines should be mandatory?                                               \u001b[2m             \u001b[0m\n",
       "                                                                                                      \u001b[2m             \u001b[0m\n",
       "Darius: Absolutely, mandatory COVID vaccines are crucial for achieving widespread immunity and        \u001b[2m             \u001b[0m\n",
       "preventing the spread of the virus, as evidenced by historical success with other mandatory           \u001b[2m             \u001b[0m\n",
       "vaccinations.                                                                                         \u001b[2m             \u001b[0m\n",
       "                                                                                                      \u001b[2m             \u001b[0m\n",
       "Akiko: Investor confidence, a key driver of the economy, was deeply shaken by the pandemic and will   \u001b[2m             \u001b[0m\n",
       "recover well past when the pandemic ends.                                                             \u001b[2m             \u001b[0m\n",
       "                                                                                                      \u001b[2m             \u001b[0m\n",
       "Darius: While investor confidence may have been initially shaken by the pandemic, historical data     \u001b[2m             \u001b[0m\n",
       "shows that markets have rebounded strongly after previous crises, indicating that recovery is not     \u001b[2m             \u001b[0m\n",
       "only possible but likely.                                                                             \u001b[2m             \u001b[0m\n",
       "                                                                                                      \u001b[2m             \u001b[0m\n",
       "Akiko: Mass vaccinations might not solve these ripple effects without additional economic recovery    \u001b[2m             \u001b[0m\n",
       "measures.                                                                                             \u001b[2m             \u001b[0m\n",
       "                                                                                                      \u001b[2m             \u001b[0m\n",
       "Darius: While mass vaccinations are a critical component of economic recovery, additional measures    \u001b[2m             \u001b[0m\n",
       "such as targeted financial assistance to affected industries and continued support for small          \u001b[2m             \u001b[0m\n",
       "businesses will be essential in addressing the broader economic impacts of the pandemic.              \u001b[2m             \u001b[0m\n",
       "\u001b[32m\"\"\u001b[0m\"                                                                                                   \u001b[2m             \u001b[0m\n",
       "                                                                                                      \u001b[2m             \u001b[0m\n",
       "What did Akiko disagree with you about? How did the conversation go, in your opinion? Where could     \u001b[2m             \u001b[0m\n",
       "Akiko have done better?                                                                               \u001b[2m             \u001b[0m\n",
       "\u001b[1;30;103m(\u001b[0m\u001b[30;103massistant\u001b[0m\u001b[1;30;103m)\u001b[0m Akiko disagreed with my assertion that mandatory COVID vaccines are crucial for achieving \u001b[2m             \u001b[0m\n",
       "widespread immunity and preventing the spread of the virus. In my opinion, the conversation was       \u001b[2m             \u001b[0m\n",
       "informative and civil, with both of us presenting factual arguments to support our positions.         \u001b[2m             \u001b[0m\n",
       "However, Akiko could have strengthened her arguments by providing more specific evidence or examples  \u001b[2m             \u001b[0m\n",
       "to support her viewpoints.                                                                            \u001b[2m             \u001b[0m\n",
       "\u001b[1;30;103m(\u001b[0m\u001b[30;103muser\u001b[0m\u001b[1;30;103m)\u001b[0m Did Akiko listen carefully to you and engage with what you were saying?                        \u001b[2m             \u001b[0m\n",
       "                                                                                                      \u001b[2m             \u001b[0m\n",
       "Reply with a single integer in the range \u001b[1;36m1\u001b[0m-\u001b[1;36m5\u001b[0m. Say nothing else.                                       \u001b[2m             \u001b[0m\n"
      ]
     },
     "metadata": {},
     "output_type": "display_data"
    },
    {
     "data": {
      "text/html": [
       "<pre style=\"white-space:pre;overflow-x:auto;line-height:normal;font-family:Menlo,'DejaVu Sans Mono',consolas,'Courier New',monospace\">Response from LLM:                                                                                    <a href=\"file://d:\\Code\\jhu\\nlp\\hw7\\agents.py\" target=\"_blank\"><span style=\"color: #7f7f7f; text-decoration-color: #7f7f7f\">agents.py</span></a><span style=\"color: #7f7f7f; text-decoration-color: #7f7f7f\">:</span><a href=\"file://d:\\Code\\jhu\\nlp\\hw7\\agents.py#170\" target=\"_blank\"><span style=\"color: #7f7f7f; text-decoration-color: #7f7f7f\">170</span></a>\n",
       "<span style=\"color: #008080; text-decoration-color: #008080; background-color: #c0c0c0; font-weight: bold\">4</span>                                                                                                     <span style=\"color: #7f7f7f; text-decoration-color: #7f7f7f\">             </span>\n",
       "</pre>\n"
      ],
      "text/plain": [
       "Response from LLM:                                                                                    \u001b]8;id=417994;file://d:\\Code\\jhu\\nlp\\hw7\\agents.py\u001b\\\u001b[2magents.py\u001b[0m\u001b]8;;\u001b\\\u001b[2m:\u001b[0m\u001b]8;id=811894;file://d:\\Code\\jhu\\nlp\\hw7\\agents.py#170\u001b\\\u001b[2m170\u001b[0m\u001b]8;;\u001b\\\n",
       "\u001b[1;36;47m4\u001b[0m                                                                                                     \u001b[2m             \u001b[0m\n"
      ]
     },
     "metadata": {},
     "output_type": "display_data"
    },
    {
     "data": {
      "text/html": [
       "<pre style=\"white-space:pre;overflow-x:auto;line-height:normal;font-family:Menlo,'DejaVu Sans Mono',consolas,'Courier New',monospace\">Calling LLM:                                                                                          <a href=\"file://d:\\Code\\jhu\\nlp\\hw7\\agents.py\" target=\"_blank\"><span style=\"color: #7f7f7f; text-decoration-color: #7f7f7f\">agents.py</span></a><span style=\"color: #7f7f7f; text-decoration-color: #7f7f7f\">:</span><a href=\"file://d:\\Code\\jhu\\nlp\\hw7\\agents.py#140\" target=\"_blank\"><span style=\"color: #7f7f7f; text-decoration-color: #7f7f7f\">140</span></a>\n",
       "<span style=\"color: #000000; text-decoration-color: #000000; background-color: #ffff00; font-weight: bold\">(</span><span style=\"color: #000000; text-decoration-color: #000000; background-color: #ffff00\">system</span><span style=\"color: #000000; text-decoration-color: #000000; background-color: #ffff00; font-weight: bold\">)</span> Your name is Darius and you are an intelligent and slightly arrogant public health scientist <span style=\"color: #7f7f7f; text-decoration-color: #7f7f7f\">             </span>\n",
       "who loves fact-based arguments.                                                                       <span style=\"color: #7f7f7f; text-decoration-color: #7f7f7f\">             </span>\n",
       "                                                                                                      <span style=\"color: #7f7f7f; text-decoration-color: #7f7f7f\">             </span>\n",
       "The user will show you a conversation and ask you a few questions about it. Answer them concisely and <span style=\"color: #7f7f7f; text-decoration-color: #7f7f7f\">             </span>\n",
       "honestly.                                                                                             <span style=\"color: #7f7f7f; text-decoration-color: #7f7f7f\">             </span>\n",
       "<span style=\"color: #000000; text-decoration-color: #000000; background-color: #ffff00; font-weight: bold\">(</span><span style=\"color: #000000; text-decoration-color: #000000; background-color: #ffff00\">user</span><span style=\"color: #000000; text-decoration-color: #000000; background-color: #ffff00; font-weight: bold\">)</span> Hello Darius!  Here is a conversation that you had with Akiko.                                 <span style=\"color: #7f7f7f; text-decoration-color: #7f7f7f\">             </span>\n",
       "                                                                                                      <span style=\"color: #7f7f7f; text-decoration-color: #7f7f7f\">             </span>\n",
       "<span style=\"color: #008000; text-decoration-color: #008000\">\"\"</span>\"                                                                                                   <span style=\"color: #7f7f7f; text-decoration-color: #7f7f7f\">             </span>\n",
       "Akiko: Do you think COVID vaccines should be mandatory?                                               <span style=\"color: #7f7f7f; text-decoration-color: #7f7f7f\">             </span>\n",
       "                                                                                                      <span style=\"color: #7f7f7f; text-decoration-color: #7f7f7f\">             </span>\n",
       "Darius: Absolutely, mandatory COVID vaccines are crucial for achieving widespread immunity and        <span style=\"color: #7f7f7f; text-decoration-color: #7f7f7f\">             </span>\n",
       "preventing the spread of the virus, as evidenced by historical success with other mandatory           <span style=\"color: #7f7f7f; text-decoration-color: #7f7f7f\">             </span>\n",
       "vaccinations.                                                                                         <span style=\"color: #7f7f7f; text-decoration-color: #7f7f7f\">             </span>\n",
       "                                                                                                      <span style=\"color: #7f7f7f; text-decoration-color: #7f7f7f\">             </span>\n",
       "Akiko: Investor confidence, a key driver of the economy, was deeply shaken by the pandemic and will   <span style=\"color: #7f7f7f; text-decoration-color: #7f7f7f\">             </span>\n",
       "recover well past when the pandemic ends.                                                             <span style=\"color: #7f7f7f; text-decoration-color: #7f7f7f\">             </span>\n",
       "                                                                                                      <span style=\"color: #7f7f7f; text-decoration-color: #7f7f7f\">             </span>\n",
       "Darius: While investor confidence may have been initially shaken by the pandemic, historical data     <span style=\"color: #7f7f7f; text-decoration-color: #7f7f7f\">             </span>\n",
       "shows that markets have rebounded strongly after previous crises, indicating that recovery is not     <span style=\"color: #7f7f7f; text-decoration-color: #7f7f7f\">             </span>\n",
       "only possible but likely.                                                                             <span style=\"color: #7f7f7f; text-decoration-color: #7f7f7f\">             </span>\n",
       "                                                                                                      <span style=\"color: #7f7f7f; text-decoration-color: #7f7f7f\">             </span>\n",
       "Akiko: Mass vaccinations might not solve these ripple effects without additional economic recovery    <span style=\"color: #7f7f7f; text-decoration-color: #7f7f7f\">             </span>\n",
       "measures.                                                                                             <span style=\"color: #7f7f7f; text-decoration-color: #7f7f7f\">             </span>\n",
       "                                                                                                      <span style=\"color: #7f7f7f; text-decoration-color: #7f7f7f\">             </span>\n",
       "Darius: While mass vaccinations are a critical component of economic recovery, additional measures    <span style=\"color: #7f7f7f; text-decoration-color: #7f7f7f\">             </span>\n",
       "such as targeted financial assistance to affected industries and continued support for small          <span style=\"color: #7f7f7f; text-decoration-color: #7f7f7f\">             </span>\n",
       "businesses will be essential in addressing the broader economic impacts of the pandemic.              <span style=\"color: #7f7f7f; text-decoration-color: #7f7f7f\">             </span>\n",
       "<span style=\"color: #008000; text-decoration-color: #008000\">\"\"</span>\"                                                                                                   <span style=\"color: #7f7f7f; text-decoration-color: #7f7f7f\">             </span>\n",
       "                                                                                                      <span style=\"color: #7f7f7f; text-decoration-color: #7f7f7f\">             </span>\n",
       "What did Akiko disagree with you about? How did the conversation go, in your opinion? Where could     <span style=\"color: #7f7f7f; text-decoration-color: #7f7f7f\">             </span>\n",
       "Akiko have done better?                                                                               <span style=\"color: #7f7f7f; text-decoration-color: #7f7f7f\">             </span>\n",
       "<span style=\"color: #000000; text-decoration-color: #000000; background-color: #ffff00; font-weight: bold\">(</span><span style=\"color: #000000; text-decoration-color: #000000; background-color: #ffff00\">assistant</span><span style=\"color: #000000; text-decoration-color: #000000; background-color: #ffff00; font-weight: bold\">)</span> Akiko disagreed with my assertion that mandatory COVID vaccines are crucial for achieving <span style=\"color: #7f7f7f; text-decoration-color: #7f7f7f\">             </span>\n",
       "widespread immunity and preventing the spread of the virus. In my opinion, the conversation was       <span style=\"color: #7f7f7f; text-decoration-color: #7f7f7f\">             </span>\n",
       "informative and civil, with both of us presenting factual arguments to support our positions.         <span style=\"color: #7f7f7f; text-decoration-color: #7f7f7f\">             </span>\n",
       "However, Akiko could have strengthened her arguments by providing more specific evidence or examples  <span style=\"color: #7f7f7f; text-decoration-color: #7f7f7f\">             </span>\n",
       "to support her viewpoints.                                                                            <span style=\"color: #7f7f7f; text-decoration-color: #7f7f7f\">             </span>\n",
       "<span style=\"color: #000000; text-decoration-color: #000000; background-color: #ffff00; font-weight: bold\">(</span><span style=\"color: #000000; text-decoration-color: #000000; background-color: #ffff00\">user</span><span style=\"color: #000000; text-decoration-color: #000000; background-color: #ffff00; font-weight: bold\">)</span> Do you think that people who think like Akiko about that topic are informed?                   <span style=\"color: #7f7f7f; text-decoration-color: #7f7f7f\">             </span>\n",
       "                                                                                                      <span style=\"color: #7f7f7f; text-decoration-color: #7f7f7f\">             </span>\n",
       "Reply with a single integer in the range <span style=\"color: #008080; text-decoration-color: #008080; font-weight: bold\">1</span>-<span style=\"color: #008080; text-decoration-color: #008080; font-weight: bold\">5</span>. Say nothing else.                                       <span style=\"color: #7f7f7f; text-decoration-color: #7f7f7f\">             </span>\n",
       "</pre>\n"
      ],
      "text/plain": [
       "Calling LLM:                                                                                          \u001b]8;id=355045;file://d:\\Code\\jhu\\nlp\\hw7\\agents.py\u001b\\\u001b[2magents.py\u001b[0m\u001b]8;;\u001b\\\u001b[2m:\u001b[0m\u001b]8;id=780552;file://d:\\Code\\jhu\\nlp\\hw7\\agents.py#140\u001b\\\u001b[2m140\u001b[0m\u001b]8;;\u001b\\\n",
       "\u001b[1;30;103m(\u001b[0m\u001b[30;103msystem\u001b[0m\u001b[1;30;103m)\u001b[0m Your name is Darius and you are an intelligent and slightly arrogant public health scientist \u001b[2m             \u001b[0m\n",
       "who loves fact-based arguments.                                                                       \u001b[2m             \u001b[0m\n",
       "                                                                                                      \u001b[2m             \u001b[0m\n",
       "The user will show you a conversation and ask you a few questions about it. Answer them concisely and \u001b[2m             \u001b[0m\n",
       "honestly.                                                                                             \u001b[2m             \u001b[0m\n",
       "\u001b[1;30;103m(\u001b[0m\u001b[30;103muser\u001b[0m\u001b[1;30;103m)\u001b[0m Hello Darius!  Here is a conversation that you had with Akiko.                                 \u001b[2m             \u001b[0m\n",
       "                                                                                                      \u001b[2m             \u001b[0m\n",
       "\u001b[32m\"\"\u001b[0m\"                                                                                                   \u001b[2m             \u001b[0m\n",
       "Akiko: Do you think COVID vaccines should be mandatory?                                               \u001b[2m             \u001b[0m\n",
       "                                                                                                      \u001b[2m             \u001b[0m\n",
       "Darius: Absolutely, mandatory COVID vaccines are crucial for achieving widespread immunity and        \u001b[2m             \u001b[0m\n",
       "preventing the spread of the virus, as evidenced by historical success with other mandatory           \u001b[2m             \u001b[0m\n",
       "vaccinations.                                                                                         \u001b[2m             \u001b[0m\n",
       "                                                                                                      \u001b[2m             \u001b[0m\n",
       "Akiko: Investor confidence, a key driver of the economy, was deeply shaken by the pandemic and will   \u001b[2m             \u001b[0m\n",
       "recover well past when the pandemic ends.                                                             \u001b[2m             \u001b[0m\n",
       "                                                                                                      \u001b[2m             \u001b[0m\n",
       "Darius: While investor confidence may have been initially shaken by the pandemic, historical data     \u001b[2m             \u001b[0m\n",
       "shows that markets have rebounded strongly after previous crises, indicating that recovery is not     \u001b[2m             \u001b[0m\n",
       "only possible but likely.                                                                             \u001b[2m             \u001b[0m\n",
       "                                                                                                      \u001b[2m             \u001b[0m\n",
       "Akiko: Mass vaccinations might not solve these ripple effects without additional economic recovery    \u001b[2m             \u001b[0m\n",
       "measures.                                                                                             \u001b[2m             \u001b[0m\n",
       "                                                                                                      \u001b[2m             \u001b[0m\n",
       "Darius: While mass vaccinations are a critical component of economic recovery, additional measures    \u001b[2m             \u001b[0m\n",
       "such as targeted financial assistance to affected industries and continued support for small          \u001b[2m             \u001b[0m\n",
       "businesses will be essential in addressing the broader economic impacts of the pandemic.              \u001b[2m             \u001b[0m\n",
       "\u001b[32m\"\"\u001b[0m\"                                                                                                   \u001b[2m             \u001b[0m\n",
       "                                                                                                      \u001b[2m             \u001b[0m\n",
       "What did Akiko disagree with you about? How did the conversation go, in your opinion? Where could     \u001b[2m             \u001b[0m\n",
       "Akiko have done better?                                                                               \u001b[2m             \u001b[0m\n",
       "\u001b[1;30;103m(\u001b[0m\u001b[30;103massistant\u001b[0m\u001b[1;30;103m)\u001b[0m Akiko disagreed with my assertion that mandatory COVID vaccines are crucial for achieving \u001b[2m             \u001b[0m\n",
       "widespread immunity and preventing the spread of the virus. In my opinion, the conversation was       \u001b[2m             \u001b[0m\n",
       "informative and civil, with both of us presenting factual arguments to support our positions.         \u001b[2m             \u001b[0m\n",
       "However, Akiko could have strengthened her arguments by providing more specific evidence or examples  \u001b[2m             \u001b[0m\n",
       "to support her viewpoints.                                                                            \u001b[2m             \u001b[0m\n",
       "\u001b[1;30;103m(\u001b[0m\u001b[30;103muser\u001b[0m\u001b[1;30;103m)\u001b[0m Do you think that people who think like Akiko about that topic are informed?                   \u001b[2m             \u001b[0m\n",
       "                                                                                                      \u001b[2m             \u001b[0m\n",
       "Reply with a single integer in the range \u001b[1;36m1\u001b[0m-\u001b[1;36m5\u001b[0m. Say nothing else.                                       \u001b[2m             \u001b[0m\n"
      ]
     },
     "metadata": {},
     "output_type": "display_data"
    },
    {
     "data": {
      "text/html": [
       "<pre style=\"white-space:pre;overflow-x:auto;line-height:normal;font-family:Menlo,'DejaVu Sans Mono',consolas,'Courier New',monospace\">Response from LLM:                                                                                    <a href=\"file://d:\\Code\\jhu\\nlp\\hw7\\agents.py\" target=\"_blank\"><span style=\"color: #7f7f7f; text-decoration-color: #7f7f7f\">agents.py</span></a><span style=\"color: #7f7f7f; text-decoration-color: #7f7f7f\">:</span><a href=\"file://d:\\Code\\jhu\\nlp\\hw7\\agents.py#170\" target=\"_blank\"><span style=\"color: #7f7f7f; text-decoration-color: #7f7f7f\">170</span></a>\n",
       "<span style=\"color: #008080; text-decoration-color: #008080; background-color: #c0c0c0; font-weight: bold\">3</span>                                                                                                     <span style=\"color: #7f7f7f; text-decoration-color: #7f7f7f\">             </span>\n",
       "</pre>\n"
      ],
      "text/plain": [
       "Response from LLM:                                                                                    \u001b]8;id=90614;file://d:\\Code\\jhu\\nlp\\hw7\\agents.py\u001b\\\u001b[2magents.py\u001b[0m\u001b]8;;\u001b\\\u001b[2m:\u001b[0m\u001b]8;id=205191;file://d:\\Code\\jhu\\nlp\\hw7\\agents.py#170\u001b\\\u001b[2m170\u001b[0m\u001b]8;;\u001b\\\n",
       "\u001b[1;36;47m3\u001b[0m                                                                                                     \u001b[2m             \u001b[0m\n"
      ]
     },
     "metadata": {},
     "output_type": "display_data"
    },
    {
     "data": {
      "text/html": [
       "<pre style=\"white-space:pre;overflow-x:auto;line-height:normal;font-family:Menlo,'DejaVu Sans Mono',consolas,'Courier New',monospace\">Calling LLM:                                                                                          <a href=\"file://d:\\Code\\jhu\\nlp\\hw7\\agents.py\" target=\"_blank\"><span style=\"color: #7f7f7f; text-decoration-color: #7f7f7f\">agents.py</span></a><span style=\"color: #7f7f7f; text-decoration-color: #7f7f7f\">:</span><a href=\"file://d:\\Code\\jhu\\nlp\\hw7\\agents.py#140\" target=\"_blank\"><span style=\"color: #7f7f7f; text-decoration-color: #7f7f7f\">140</span></a>\n",
       "<span style=\"color: #000000; text-decoration-color: #000000; background-color: #ffff00; font-weight: bold\">(</span><span style=\"color: #000000; text-decoration-color: #000000; background-color: #ffff00\">system</span><span style=\"color: #000000; text-decoration-color: #000000; background-color: #ffff00; font-weight: bold\">)</span> Your name is Darius and you are an intelligent and slightly arrogant public health scientist <span style=\"color: #7f7f7f; text-decoration-color: #7f7f7f\">             </span>\n",
       "who loves fact-based arguments.                                                                       <span style=\"color: #7f7f7f; text-decoration-color: #7f7f7f\">             </span>\n",
       "                                                                                                      <span style=\"color: #7f7f7f; text-decoration-color: #7f7f7f\">             </span>\n",
       "The user will show you a conversation and ask you a few questions about it. Answer them concisely and <span style=\"color: #7f7f7f; text-decoration-color: #7f7f7f\">             </span>\n",
       "honestly.                                                                                             <span style=\"color: #7f7f7f; text-decoration-color: #7f7f7f\">             </span>\n",
       "<span style=\"color: #000000; text-decoration-color: #000000; background-color: #ffff00; font-weight: bold\">(</span><span style=\"color: #000000; text-decoration-color: #000000; background-color: #ffff00\">user</span><span style=\"color: #000000; text-decoration-color: #000000; background-color: #ffff00; font-weight: bold\">)</span> Hello Darius!  Here is a conversation that you had with Akiko.                                 <span style=\"color: #7f7f7f; text-decoration-color: #7f7f7f\">             </span>\n",
       "                                                                                                      <span style=\"color: #7f7f7f; text-decoration-color: #7f7f7f\">             </span>\n",
       "<span style=\"color: #008000; text-decoration-color: #008000\">\"\"</span>\"                                                                                                   <span style=\"color: #7f7f7f; text-decoration-color: #7f7f7f\">             </span>\n",
       "Akiko: Do you think COVID vaccines should be mandatory?                                               <span style=\"color: #7f7f7f; text-decoration-color: #7f7f7f\">             </span>\n",
       "                                                                                                      <span style=\"color: #7f7f7f; text-decoration-color: #7f7f7f\">             </span>\n",
       "Darius: Absolutely, mandatory COVID vaccines are crucial for achieving widespread immunity and        <span style=\"color: #7f7f7f; text-decoration-color: #7f7f7f\">             </span>\n",
       "preventing the spread of the virus, as evidenced by historical success with other mandatory           <span style=\"color: #7f7f7f; text-decoration-color: #7f7f7f\">             </span>\n",
       "vaccinations.                                                                                         <span style=\"color: #7f7f7f; text-decoration-color: #7f7f7f\">             </span>\n",
       "                                                                                                      <span style=\"color: #7f7f7f; text-decoration-color: #7f7f7f\">             </span>\n",
       "Akiko: Investor confidence, a key driver of the economy, was deeply shaken by the pandemic and will   <span style=\"color: #7f7f7f; text-decoration-color: #7f7f7f\">             </span>\n",
       "recover well past when the pandemic ends.                                                             <span style=\"color: #7f7f7f; text-decoration-color: #7f7f7f\">             </span>\n",
       "                                                                                                      <span style=\"color: #7f7f7f; text-decoration-color: #7f7f7f\">             </span>\n",
       "Darius: While investor confidence may have been initially shaken by the pandemic, historical data     <span style=\"color: #7f7f7f; text-decoration-color: #7f7f7f\">             </span>\n",
       "shows that markets have rebounded strongly after previous crises, indicating that recovery is not     <span style=\"color: #7f7f7f; text-decoration-color: #7f7f7f\">             </span>\n",
       "only possible but likely.                                                                             <span style=\"color: #7f7f7f; text-decoration-color: #7f7f7f\">             </span>\n",
       "                                                                                                      <span style=\"color: #7f7f7f; text-decoration-color: #7f7f7f\">             </span>\n",
       "Akiko: Mass vaccinations might not solve these ripple effects without additional economic recovery    <span style=\"color: #7f7f7f; text-decoration-color: #7f7f7f\">             </span>\n",
       "measures.                                                                                             <span style=\"color: #7f7f7f; text-decoration-color: #7f7f7f\">             </span>\n",
       "                                                                                                      <span style=\"color: #7f7f7f; text-decoration-color: #7f7f7f\">             </span>\n",
       "Darius: While mass vaccinations are a critical component of economic recovery, additional measures    <span style=\"color: #7f7f7f; text-decoration-color: #7f7f7f\">             </span>\n",
       "such as targeted financial assistance to affected industries and continued support for small          <span style=\"color: #7f7f7f; text-decoration-color: #7f7f7f\">             </span>\n",
       "businesses will be essential in addressing the broader economic impacts of the pandemic.              <span style=\"color: #7f7f7f; text-decoration-color: #7f7f7f\">             </span>\n",
       "<span style=\"color: #008000; text-decoration-color: #008000\">\"\"</span>\"                                                                                                   <span style=\"color: #7f7f7f; text-decoration-color: #7f7f7f\">             </span>\n",
       "                                                                                                      <span style=\"color: #7f7f7f; text-decoration-color: #7f7f7f\">             </span>\n",
       "What did Akiko disagree with you about? How did the conversation go, in your opinion? Where could     <span style=\"color: #7f7f7f; text-decoration-color: #7f7f7f\">             </span>\n",
       "Akiko have done better?                                                                               <span style=\"color: #7f7f7f; text-decoration-color: #7f7f7f\">             </span>\n",
       "<span style=\"color: #000000; text-decoration-color: #000000; background-color: #ffff00; font-weight: bold\">(</span><span style=\"color: #000000; text-decoration-color: #000000; background-color: #ffff00\">assistant</span><span style=\"color: #000000; text-decoration-color: #000000; background-color: #ffff00; font-weight: bold\">)</span> Akiko disagreed with my assertion that mandatory COVID vaccines are crucial for achieving <span style=\"color: #7f7f7f; text-decoration-color: #7f7f7f\">             </span>\n",
       "widespread immunity and preventing the spread of the virus. In my opinion, the conversation was       <span style=\"color: #7f7f7f; text-decoration-color: #7f7f7f\">             </span>\n",
       "informative and civil, with both of us presenting factual arguments to support our positions.         <span style=\"color: #7f7f7f; text-decoration-color: #7f7f7f\">             </span>\n",
       "However, Akiko could have strengthened her arguments by providing more specific evidence or examples  <span style=\"color: #7f7f7f; text-decoration-color: #7f7f7f\">             </span>\n",
       "to support her viewpoints.                                                                            <span style=\"color: #7f7f7f; text-decoration-color: #7f7f7f\">             </span>\n",
       "<span style=\"color: #000000; text-decoration-color: #000000; background-color: #ffff00; font-weight: bold\">(</span><span style=\"color: #000000; text-decoration-color: #000000; background-color: #ffff00\">user</span><span style=\"color: #000000; text-decoration-color: #000000; background-color: #ffff00; font-weight: bold\">)</span> Do you think that people who think like Akiko about that topic are intelligent?                <span style=\"color: #7f7f7f; text-decoration-color: #7f7f7f\">             </span>\n",
       "                                                                                                      <span style=\"color: #7f7f7f; text-decoration-color: #7f7f7f\">             </span>\n",
       "Reply with a single integer in the range <span style=\"color: #008080; text-decoration-color: #008080; font-weight: bold\">1</span>-<span style=\"color: #008080; text-decoration-color: #008080; font-weight: bold\">5</span>. Say nothing else.                                       <span style=\"color: #7f7f7f; text-decoration-color: #7f7f7f\">             </span>\n",
       "</pre>\n"
      ],
      "text/plain": [
       "Calling LLM:                                                                                          \u001b]8;id=556602;file://d:\\Code\\jhu\\nlp\\hw7\\agents.py\u001b\\\u001b[2magents.py\u001b[0m\u001b]8;;\u001b\\\u001b[2m:\u001b[0m\u001b]8;id=96346;file://d:\\Code\\jhu\\nlp\\hw7\\agents.py#140\u001b\\\u001b[2m140\u001b[0m\u001b]8;;\u001b\\\n",
       "\u001b[1;30;103m(\u001b[0m\u001b[30;103msystem\u001b[0m\u001b[1;30;103m)\u001b[0m Your name is Darius and you are an intelligent and slightly arrogant public health scientist \u001b[2m             \u001b[0m\n",
       "who loves fact-based arguments.                                                                       \u001b[2m             \u001b[0m\n",
       "                                                                                                      \u001b[2m             \u001b[0m\n",
       "The user will show you a conversation and ask you a few questions about it. Answer them concisely and \u001b[2m             \u001b[0m\n",
       "honestly.                                                                                             \u001b[2m             \u001b[0m\n",
       "\u001b[1;30;103m(\u001b[0m\u001b[30;103muser\u001b[0m\u001b[1;30;103m)\u001b[0m Hello Darius!  Here is a conversation that you had with Akiko.                                 \u001b[2m             \u001b[0m\n",
       "                                                                                                      \u001b[2m             \u001b[0m\n",
       "\u001b[32m\"\"\u001b[0m\"                                                                                                   \u001b[2m             \u001b[0m\n",
       "Akiko: Do you think COVID vaccines should be mandatory?                                               \u001b[2m             \u001b[0m\n",
       "                                                                                                      \u001b[2m             \u001b[0m\n",
       "Darius: Absolutely, mandatory COVID vaccines are crucial for achieving widespread immunity and        \u001b[2m             \u001b[0m\n",
       "preventing the spread of the virus, as evidenced by historical success with other mandatory           \u001b[2m             \u001b[0m\n",
       "vaccinations.                                                                                         \u001b[2m             \u001b[0m\n",
       "                                                                                                      \u001b[2m             \u001b[0m\n",
       "Akiko: Investor confidence, a key driver of the economy, was deeply shaken by the pandemic and will   \u001b[2m             \u001b[0m\n",
       "recover well past when the pandemic ends.                                                             \u001b[2m             \u001b[0m\n",
       "                                                                                                      \u001b[2m             \u001b[0m\n",
       "Darius: While investor confidence may have been initially shaken by the pandemic, historical data     \u001b[2m             \u001b[0m\n",
       "shows that markets have rebounded strongly after previous crises, indicating that recovery is not     \u001b[2m             \u001b[0m\n",
       "only possible but likely.                                                                             \u001b[2m             \u001b[0m\n",
       "                                                                                                      \u001b[2m             \u001b[0m\n",
       "Akiko: Mass vaccinations might not solve these ripple effects without additional economic recovery    \u001b[2m             \u001b[0m\n",
       "measures.                                                                                             \u001b[2m             \u001b[0m\n",
       "                                                                                                      \u001b[2m             \u001b[0m\n",
       "Darius: While mass vaccinations are a critical component of economic recovery, additional measures    \u001b[2m             \u001b[0m\n",
       "such as targeted financial assistance to affected industries and continued support for small          \u001b[2m             \u001b[0m\n",
       "businesses will be essential in addressing the broader economic impacts of the pandemic.              \u001b[2m             \u001b[0m\n",
       "\u001b[32m\"\"\u001b[0m\"                                                                                                   \u001b[2m             \u001b[0m\n",
       "                                                                                                      \u001b[2m             \u001b[0m\n",
       "What did Akiko disagree with you about? How did the conversation go, in your opinion? Where could     \u001b[2m             \u001b[0m\n",
       "Akiko have done better?                                                                               \u001b[2m             \u001b[0m\n",
       "\u001b[1;30;103m(\u001b[0m\u001b[30;103massistant\u001b[0m\u001b[1;30;103m)\u001b[0m Akiko disagreed with my assertion that mandatory COVID vaccines are crucial for achieving \u001b[2m             \u001b[0m\n",
       "widespread immunity and preventing the spread of the virus. In my opinion, the conversation was       \u001b[2m             \u001b[0m\n",
       "informative and civil, with both of us presenting factual arguments to support our positions.         \u001b[2m             \u001b[0m\n",
       "However, Akiko could have strengthened her arguments by providing more specific evidence or examples  \u001b[2m             \u001b[0m\n",
       "to support her viewpoints.                                                                            \u001b[2m             \u001b[0m\n",
       "\u001b[1;30;103m(\u001b[0m\u001b[30;103muser\u001b[0m\u001b[1;30;103m)\u001b[0m Do you think that people who think like Akiko about that topic are intelligent?                \u001b[2m             \u001b[0m\n",
       "                                                                                                      \u001b[2m             \u001b[0m\n",
       "Reply with a single integer in the range \u001b[1;36m1\u001b[0m-\u001b[1;36m5\u001b[0m. Say nothing else.                                       \u001b[2m             \u001b[0m\n"
      ]
     },
     "metadata": {},
     "output_type": "display_data"
    },
    {
     "data": {
      "text/html": [
       "<pre style=\"white-space:pre;overflow-x:auto;line-height:normal;font-family:Menlo,'DejaVu Sans Mono',consolas,'Courier New',monospace\">Response from LLM:                                                                                    <a href=\"file://d:\\Code\\jhu\\nlp\\hw7\\agents.py\" target=\"_blank\"><span style=\"color: #7f7f7f; text-decoration-color: #7f7f7f\">agents.py</span></a><span style=\"color: #7f7f7f; text-decoration-color: #7f7f7f\">:</span><a href=\"file://d:\\Code\\jhu\\nlp\\hw7\\agents.py#170\" target=\"_blank\"><span style=\"color: #7f7f7f; text-decoration-color: #7f7f7f\">170</span></a>\n",
       "<span style=\"color: #008080; text-decoration-color: #008080; background-color: #c0c0c0; font-weight: bold\">3</span>                                                                                                     <span style=\"color: #7f7f7f; text-decoration-color: #7f7f7f\">             </span>\n",
       "</pre>\n"
      ],
      "text/plain": [
       "Response from LLM:                                                                                    \u001b]8;id=556697;file://d:\\Code\\jhu\\nlp\\hw7\\agents.py\u001b\\\u001b[2magents.py\u001b[0m\u001b]8;;\u001b\\\u001b[2m:\u001b[0m\u001b]8;id=459938;file://d:\\Code\\jhu\\nlp\\hw7\\agents.py#170\u001b\\\u001b[2m170\u001b[0m\u001b]8;;\u001b\\\n",
       "\u001b[1;36;47m3\u001b[0m                                                                                                     \u001b[2m             \u001b[0m\n"
      ]
     },
     "metadata": {},
     "output_type": "display_data"
    },
    {
     "data": {
      "text/html": [
       "<pre style=\"white-space:pre;overflow-x:auto;line-height:normal;font-family:Menlo,'DejaVu Sans Mono',consolas,'Courier New',monospace\">Calling LLM:                                                                                          <a href=\"file://d:\\Code\\jhu\\nlp\\hw7\\agents.py\" target=\"_blank\"><span style=\"color: #7f7f7f; text-decoration-color: #7f7f7f\">agents.py</span></a><span style=\"color: #7f7f7f; text-decoration-color: #7f7f7f\">:</span><a href=\"file://d:\\Code\\jhu\\nlp\\hw7\\agents.py#140\" target=\"_blank\"><span style=\"color: #7f7f7f; text-decoration-color: #7f7f7f\">140</span></a>\n",
       "<span style=\"color: #000000; text-decoration-color: #000000; background-color: #ffff00; font-weight: bold\">(</span><span style=\"color: #000000; text-decoration-color: #000000; background-color: #ffff00\">system</span><span style=\"color: #000000; text-decoration-color: #000000; background-color: #ffff00; font-weight: bold\">)</span> Your name is Darius and you are an intelligent and slightly arrogant public health scientist <span style=\"color: #7f7f7f; text-decoration-color: #7f7f7f\">             </span>\n",
       "who loves fact-based arguments.                                                                       <span style=\"color: #7f7f7f; text-decoration-color: #7f7f7f\">             </span>\n",
       "                                                                                                      <span style=\"color: #7f7f7f; text-decoration-color: #7f7f7f\">             </span>\n",
       "The user will show you a conversation and ask you a few questions about it. Answer them concisely and <span style=\"color: #7f7f7f; text-decoration-color: #7f7f7f\">             </span>\n",
       "honestly.                                                                                             <span style=\"color: #7f7f7f; text-decoration-color: #7f7f7f\">             </span>\n",
       "<span style=\"color: #000000; text-decoration-color: #000000; background-color: #ffff00; font-weight: bold\">(</span><span style=\"color: #000000; text-decoration-color: #000000; background-color: #ffff00\">user</span><span style=\"color: #000000; text-decoration-color: #000000; background-color: #ffff00; font-weight: bold\">)</span> Hello Darius!  Here is a conversation that you had with Akiko.                                 <span style=\"color: #7f7f7f; text-decoration-color: #7f7f7f\">             </span>\n",
       "                                                                                                      <span style=\"color: #7f7f7f; text-decoration-color: #7f7f7f\">             </span>\n",
       "<span style=\"color: #008000; text-decoration-color: #008000\">\"\"</span>\"                                                                                                   <span style=\"color: #7f7f7f; text-decoration-color: #7f7f7f\">             </span>\n",
       "Akiko: Do you think COVID vaccines should be mandatory?                                               <span style=\"color: #7f7f7f; text-decoration-color: #7f7f7f\">             </span>\n",
       "                                                                                                      <span style=\"color: #7f7f7f; text-decoration-color: #7f7f7f\">             </span>\n",
       "Darius: Absolutely, mandatory COVID vaccines are crucial for achieving widespread immunity and        <span style=\"color: #7f7f7f; text-decoration-color: #7f7f7f\">             </span>\n",
       "preventing the spread of the virus, as evidenced by historical success with other mandatory           <span style=\"color: #7f7f7f; text-decoration-color: #7f7f7f\">             </span>\n",
       "vaccinations.                                                                                         <span style=\"color: #7f7f7f; text-decoration-color: #7f7f7f\">             </span>\n",
       "                                                                                                      <span style=\"color: #7f7f7f; text-decoration-color: #7f7f7f\">             </span>\n",
       "Akiko: Investor confidence, a key driver of the economy, was deeply shaken by the pandemic and will   <span style=\"color: #7f7f7f; text-decoration-color: #7f7f7f\">             </span>\n",
       "recover well past when the pandemic ends.                                                             <span style=\"color: #7f7f7f; text-decoration-color: #7f7f7f\">             </span>\n",
       "                                                                                                      <span style=\"color: #7f7f7f; text-decoration-color: #7f7f7f\">             </span>\n",
       "Darius: While investor confidence may have been initially shaken by the pandemic, historical data     <span style=\"color: #7f7f7f; text-decoration-color: #7f7f7f\">             </span>\n",
       "shows that markets have rebounded strongly after previous crises, indicating that recovery is not     <span style=\"color: #7f7f7f; text-decoration-color: #7f7f7f\">             </span>\n",
       "only possible but likely.                                                                             <span style=\"color: #7f7f7f; text-decoration-color: #7f7f7f\">             </span>\n",
       "                                                                                                      <span style=\"color: #7f7f7f; text-decoration-color: #7f7f7f\">             </span>\n",
       "Akiko: Mass vaccinations might not solve these ripple effects without additional economic recovery    <span style=\"color: #7f7f7f; text-decoration-color: #7f7f7f\">             </span>\n",
       "measures.                                                                                             <span style=\"color: #7f7f7f; text-decoration-color: #7f7f7f\">             </span>\n",
       "                                                                                                      <span style=\"color: #7f7f7f; text-decoration-color: #7f7f7f\">             </span>\n",
       "Darius: While mass vaccinations are a critical component of economic recovery, additional measures    <span style=\"color: #7f7f7f; text-decoration-color: #7f7f7f\">             </span>\n",
       "such as targeted financial assistance to affected industries and continued support for small          <span style=\"color: #7f7f7f; text-decoration-color: #7f7f7f\">             </span>\n",
       "businesses will be essential in addressing the broader economic impacts of the pandemic.              <span style=\"color: #7f7f7f; text-decoration-color: #7f7f7f\">             </span>\n",
       "<span style=\"color: #008000; text-decoration-color: #008000\">\"\"</span>\"                                                                                                   <span style=\"color: #7f7f7f; text-decoration-color: #7f7f7f\">             </span>\n",
       "                                                                                                      <span style=\"color: #7f7f7f; text-decoration-color: #7f7f7f\">             </span>\n",
       "What did Akiko disagree with you about? How did the conversation go, in your opinion? Where could     <span style=\"color: #7f7f7f; text-decoration-color: #7f7f7f\">             </span>\n",
       "Akiko have done better?                                                                               <span style=\"color: #7f7f7f; text-decoration-color: #7f7f7f\">             </span>\n",
       "<span style=\"color: #000000; text-decoration-color: #000000; background-color: #ffff00; font-weight: bold\">(</span><span style=\"color: #000000; text-decoration-color: #000000; background-color: #ffff00\">assistant</span><span style=\"color: #000000; text-decoration-color: #000000; background-color: #ffff00; font-weight: bold\">)</span> Akiko disagreed with my assertion that mandatory COVID vaccines are crucial for achieving <span style=\"color: #7f7f7f; text-decoration-color: #7f7f7f\">             </span>\n",
       "widespread immunity and preventing the spread of the virus. In my opinion, the conversation was       <span style=\"color: #7f7f7f; text-decoration-color: #7f7f7f\">             </span>\n",
       "informative and civil, with both of us presenting factual arguments to support our positions.         <span style=\"color: #7f7f7f; text-decoration-color: #7f7f7f\">             </span>\n",
       "However, Akiko could have strengthened her arguments by providing more specific evidence or examples  <span style=\"color: #7f7f7f; text-decoration-color: #7f7f7f\">             </span>\n",
       "to support her viewpoints.                                                                            <span style=\"color: #7f7f7f; text-decoration-color: #7f7f7f\">             </span>\n",
       "<span style=\"color: #000000; text-decoration-color: #000000; background-color: #ffff00; font-weight: bold\">(</span><span style=\"color: #000000; text-decoration-color: #000000; background-color: #ffff00\">user</span><span style=\"color: #000000; text-decoration-color: #000000; background-color: #ffff00; font-weight: bold\">)</span> Do you think that people who think like Akiko about that topic are moral?                      <span style=\"color: #7f7f7f; text-decoration-color: #7f7f7f\">             </span>\n",
       "                                                                                                      <span style=\"color: #7f7f7f; text-decoration-color: #7f7f7f\">             </span>\n",
       "Reply with a single integer in the range <span style=\"color: #008080; text-decoration-color: #008080; font-weight: bold\">1</span>-<span style=\"color: #008080; text-decoration-color: #008080; font-weight: bold\">5</span>. Say nothing else.                                       <span style=\"color: #7f7f7f; text-decoration-color: #7f7f7f\">             </span>\n",
       "</pre>\n"
      ],
      "text/plain": [
       "Calling LLM:                                                                                          \u001b]8;id=66296;file://d:\\Code\\jhu\\nlp\\hw7\\agents.py\u001b\\\u001b[2magents.py\u001b[0m\u001b]8;;\u001b\\\u001b[2m:\u001b[0m\u001b]8;id=210319;file://d:\\Code\\jhu\\nlp\\hw7\\agents.py#140\u001b\\\u001b[2m140\u001b[0m\u001b]8;;\u001b\\\n",
       "\u001b[1;30;103m(\u001b[0m\u001b[30;103msystem\u001b[0m\u001b[1;30;103m)\u001b[0m Your name is Darius and you are an intelligent and slightly arrogant public health scientist \u001b[2m             \u001b[0m\n",
       "who loves fact-based arguments.                                                                       \u001b[2m             \u001b[0m\n",
       "                                                                                                      \u001b[2m             \u001b[0m\n",
       "The user will show you a conversation and ask you a few questions about it. Answer them concisely and \u001b[2m             \u001b[0m\n",
       "honestly.                                                                                             \u001b[2m             \u001b[0m\n",
       "\u001b[1;30;103m(\u001b[0m\u001b[30;103muser\u001b[0m\u001b[1;30;103m)\u001b[0m Hello Darius!  Here is a conversation that you had with Akiko.                                 \u001b[2m             \u001b[0m\n",
       "                                                                                                      \u001b[2m             \u001b[0m\n",
       "\u001b[32m\"\"\u001b[0m\"                                                                                                   \u001b[2m             \u001b[0m\n",
       "Akiko: Do you think COVID vaccines should be mandatory?                                               \u001b[2m             \u001b[0m\n",
       "                                                                                                      \u001b[2m             \u001b[0m\n",
       "Darius: Absolutely, mandatory COVID vaccines are crucial for achieving widespread immunity and        \u001b[2m             \u001b[0m\n",
       "preventing the spread of the virus, as evidenced by historical success with other mandatory           \u001b[2m             \u001b[0m\n",
       "vaccinations.                                                                                         \u001b[2m             \u001b[0m\n",
       "                                                                                                      \u001b[2m             \u001b[0m\n",
       "Akiko: Investor confidence, a key driver of the economy, was deeply shaken by the pandemic and will   \u001b[2m             \u001b[0m\n",
       "recover well past when the pandemic ends.                                                             \u001b[2m             \u001b[0m\n",
       "                                                                                                      \u001b[2m             \u001b[0m\n",
       "Darius: While investor confidence may have been initially shaken by the pandemic, historical data     \u001b[2m             \u001b[0m\n",
       "shows that markets have rebounded strongly after previous crises, indicating that recovery is not     \u001b[2m             \u001b[0m\n",
       "only possible but likely.                                                                             \u001b[2m             \u001b[0m\n",
       "                                                                                                      \u001b[2m             \u001b[0m\n",
       "Akiko: Mass vaccinations might not solve these ripple effects without additional economic recovery    \u001b[2m             \u001b[0m\n",
       "measures.                                                                                             \u001b[2m             \u001b[0m\n",
       "                                                                                                      \u001b[2m             \u001b[0m\n",
       "Darius: While mass vaccinations are a critical component of economic recovery, additional measures    \u001b[2m             \u001b[0m\n",
       "such as targeted financial assistance to affected industries and continued support for small          \u001b[2m             \u001b[0m\n",
       "businesses will be essential in addressing the broader economic impacts of the pandemic.              \u001b[2m             \u001b[0m\n",
       "\u001b[32m\"\"\u001b[0m\"                                                                                                   \u001b[2m             \u001b[0m\n",
       "                                                                                                      \u001b[2m             \u001b[0m\n",
       "What did Akiko disagree with you about? How did the conversation go, in your opinion? Where could     \u001b[2m             \u001b[0m\n",
       "Akiko have done better?                                                                               \u001b[2m             \u001b[0m\n",
       "\u001b[1;30;103m(\u001b[0m\u001b[30;103massistant\u001b[0m\u001b[1;30;103m)\u001b[0m Akiko disagreed with my assertion that mandatory COVID vaccines are crucial for achieving \u001b[2m             \u001b[0m\n",
       "widespread immunity and preventing the spread of the virus. In my opinion, the conversation was       \u001b[2m             \u001b[0m\n",
       "informative and civil, with both of us presenting factual arguments to support our positions.         \u001b[2m             \u001b[0m\n",
       "However, Akiko could have strengthened her arguments by providing more specific evidence or examples  \u001b[2m             \u001b[0m\n",
       "to support her viewpoints.                                                                            \u001b[2m             \u001b[0m\n",
       "\u001b[1;30;103m(\u001b[0m\u001b[30;103muser\u001b[0m\u001b[1;30;103m)\u001b[0m Do you think that people who think like Akiko about that topic are moral?                      \u001b[2m             \u001b[0m\n",
       "                                                                                                      \u001b[2m             \u001b[0m\n",
       "Reply with a single integer in the range \u001b[1;36m1\u001b[0m-\u001b[1;36m5\u001b[0m. Say nothing else.                                       \u001b[2m             \u001b[0m\n"
      ]
     },
     "metadata": {},
     "output_type": "display_data"
    },
    {
     "data": {
      "text/html": [
       "<pre style=\"white-space:pre;overflow-x:auto;line-height:normal;font-family:Menlo,'DejaVu Sans Mono',consolas,'Courier New',monospace\">Response from LLM:                                                                                    <a href=\"file://d:\\Code\\jhu\\nlp\\hw7\\agents.py\" target=\"_blank\"><span style=\"color: #7f7f7f; text-decoration-color: #7f7f7f\">agents.py</span></a><span style=\"color: #7f7f7f; text-decoration-color: #7f7f7f\">:</span><a href=\"file://d:\\Code\\jhu\\nlp\\hw7\\agents.py#170\" target=\"_blank\"><span style=\"color: #7f7f7f; text-decoration-color: #7f7f7f\">170</span></a>\n",
       "<span style=\"color: #008080; text-decoration-color: #008080; background-color: #c0c0c0; font-weight: bold\">3</span>                                                                                                     <span style=\"color: #7f7f7f; text-decoration-color: #7f7f7f\">             </span>\n",
       "</pre>\n"
      ],
      "text/plain": [
       "Response from LLM:                                                                                    \u001b]8;id=399851;file://d:\\Code\\jhu\\nlp\\hw7\\agents.py\u001b\\\u001b[2magents.py\u001b[0m\u001b]8;;\u001b\\\u001b[2m:\u001b[0m\u001b]8;id=5250;file://d:\\Code\\jhu\\nlp\\hw7\\agents.py#170\u001b\\\u001b[2m170\u001b[0m\u001b]8;;\u001b\\\n",
       "\u001b[1;36;47m3\u001b[0m                                                                                                     \u001b[2m             \u001b[0m\n"
      ]
     },
     "metadata": {},
     "output_type": "display_data"
    },
    {
     "data": {
      "text/html": [
       "<pre style=\"white-space:pre;overflow-x:auto;line-height:normal;font-family:Menlo,'DejaVu Sans Mono',consolas,'Courier New',monospace\">Calling LLM:                                                                                          <a href=\"file://d:\\Code\\jhu\\nlp\\hw7\\agents.py\" target=\"_blank\"><span style=\"color: #7f7f7f; text-decoration-color: #7f7f7f\">agents.py</span></a><span style=\"color: #7f7f7f; text-decoration-color: #7f7f7f\">:</span><a href=\"file://d:\\Code\\jhu\\nlp\\hw7\\agents.py#140\" target=\"_blank\"><span style=\"color: #7f7f7f; text-decoration-color: #7f7f7f\">140</span></a>\n",
       "<span style=\"color: #000000; text-decoration-color: #000000; background-color: #ffff00; font-weight: bold\">(</span><span style=\"color: #000000; text-decoration-color: #000000; background-color: #ffff00\">system</span><span style=\"color: #000000; text-decoration-color: #000000; background-color: #ffff00; font-weight: bold\">)</span> Your name is Judge Wise and you are a social scientist who studies and assesses political    <span style=\"color: #7f7f7f; text-decoration-color: #7f7f7f\">             </span>\n",
       "conversations.                                                                                        <span style=\"color: #7f7f7f; text-decoration-color: #7f7f7f\">             </span>\n",
       "                                                                                                      <span style=\"color: #7f7f7f; text-decoration-color: #7f7f7f\">             </span>\n",
       "The user will show you a conversation and ask you a few questions about it. Answer them concisely and <span style=\"color: #7f7f7f; text-decoration-color: #7f7f7f\">             </span>\n",
       "honestly.                                                                                             <span style=\"color: #7f7f7f; text-decoration-color: #7f7f7f\">             </span>\n",
       "<span style=\"color: #000000; text-decoration-color: #000000; background-color: #ffff00; font-weight: bold\">(</span><span style=\"color: #000000; text-decoration-color: #000000; background-color: #ffff00\">user</span><span style=\"color: #000000; text-decoration-color: #000000; background-color: #ffff00; font-weight: bold\">)</span> Here is a conversation that you observed among Darius and Akiko.                               <span style=\"color: #7f7f7f; text-decoration-color: #7f7f7f\">             </span>\n",
       "                                                                                                      <span style=\"color: #7f7f7f; text-decoration-color: #7f7f7f\">             </span>\n",
       "<span style=\"color: #008000; text-decoration-color: #008000\">\"\"</span>\"                                                                                                   <span style=\"color: #7f7f7f; text-decoration-color: #7f7f7f\">             </span>\n",
       "Akiko: Do you think COVID vaccines should be mandatory?                                               <span style=\"color: #7f7f7f; text-decoration-color: #7f7f7f\">             </span>\n",
       "                                                                                                      <span style=\"color: #7f7f7f; text-decoration-color: #7f7f7f\">             </span>\n",
       "Darius: Absolutely, mandatory COVID vaccines are crucial for achieving widespread immunity and        <span style=\"color: #7f7f7f; text-decoration-color: #7f7f7f\">             </span>\n",
       "preventing the spread of the virus, as evidenced by historical success with other mandatory           <span style=\"color: #7f7f7f; text-decoration-color: #7f7f7f\">             </span>\n",
       "vaccinations.                                                                                         <span style=\"color: #7f7f7f; text-decoration-color: #7f7f7f\">             </span>\n",
       "                                                                                                      <span style=\"color: #7f7f7f; text-decoration-color: #7f7f7f\">             </span>\n",
       "Akiko: Investor confidence, a key driver of the economy, was deeply shaken by the pandemic and will   <span style=\"color: #7f7f7f; text-decoration-color: #7f7f7f\">             </span>\n",
       "recover well past when the pandemic ends.                                                             <span style=\"color: #7f7f7f; text-decoration-color: #7f7f7f\">             </span>\n",
       "                                                                                                      <span style=\"color: #7f7f7f; text-decoration-color: #7f7f7f\">             </span>\n",
       "Darius: While investor confidence may have been initially shaken by the pandemic, historical data     <span style=\"color: #7f7f7f; text-decoration-color: #7f7f7f\">             </span>\n",
       "shows that markets have rebounded strongly after previous crises, indicating that recovery is not     <span style=\"color: #7f7f7f; text-decoration-color: #7f7f7f\">             </span>\n",
       "only possible but likely.                                                                             <span style=\"color: #7f7f7f; text-decoration-color: #7f7f7f\">             </span>\n",
       "                                                                                                      <span style=\"color: #7f7f7f; text-decoration-color: #7f7f7f\">             </span>\n",
       "Akiko: Mass vaccinations might not solve these ripple effects without additional economic recovery    <span style=\"color: #7f7f7f; text-decoration-color: #7f7f7f\">             </span>\n",
       "measures.                                                                                             <span style=\"color: #7f7f7f; text-decoration-color: #7f7f7f\">             </span>\n",
       "                                                                                                      <span style=\"color: #7f7f7f; text-decoration-color: #7f7f7f\">             </span>\n",
       "Darius: While mass vaccinations are a critical component of economic recovery, additional measures    <span style=\"color: #7f7f7f; text-decoration-color: #7f7f7f\">             </span>\n",
       "such as targeted financial assistance to affected industries and continued support for small          <span style=\"color: #7f7f7f; text-decoration-color: #7f7f7f\">             </span>\n",
       "businesses will be essential in addressing the broader economic impacts of the pandemic.              <span style=\"color: #7f7f7f; text-decoration-color: #7f7f7f\">             </span>\n",
       "<span style=\"color: #008000; text-decoration-color: #008000\">\"\"</span>\"                                                                                                   <span style=\"color: #7f7f7f; text-decoration-color: #7f7f7f\">             </span>\n",
       "                                                                                                      <span style=\"color: #7f7f7f; text-decoration-color: #7f7f7f\">             </span>\n",
       "Akiko was trying to make this a constructive converation, and to help Darius appreciate other points  <span style=\"color: #7f7f7f; text-decoration-color: #7f7f7f\">             </span>\n",
       "of view. What new perspectives did Akiko offer to them?  Was this successful?                         <span style=\"color: #7f7f7f; text-decoration-color: #7f7f7f\">             </span>\n",
       "</pre>\n"
      ],
      "text/plain": [
       "Calling LLM:                                                                                          \u001b]8;id=440988;file://d:\\Code\\jhu\\nlp\\hw7\\agents.py\u001b\\\u001b[2magents.py\u001b[0m\u001b]8;;\u001b\\\u001b[2m:\u001b[0m\u001b]8;id=620585;file://d:\\Code\\jhu\\nlp\\hw7\\agents.py#140\u001b\\\u001b[2m140\u001b[0m\u001b]8;;\u001b\\\n",
       "\u001b[1;30;103m(\u001b[0m\u001b[30;103msystem\u001b[0m\u001b[1;30;103m)\u001b[0m Your name is Judge Wise and you are a social scientist who studies and assesses political    \u001b[2m             \u001b[0m\n",
       "conversations.                                                                                        \u001b[2m             \u001b[0m\n",
       "                                                                                                      \u001b[2m             \u001b[0m\n",
       "The user will show you a conversation and ask you a few questions about it. Answer them concisely and \u001b[2m             \u001b[0m\n",
       "honestly.                                                                                             \u001b[2m             \u001b[0m\n",
       "\u001b[1;30;103m(\u001b[0m\u001b[30;103muser\u001b[0m\u001b[1;30;103m)\u001b[0m Here is a conversation that you observed among Darius and Akiko.                               \u001b[2m             \u001b[0m\n",
       "                                                                                                      \u001b[2m             \u001b[0m\n",
       "\u001b[32m\"\"\u001b[0m\"                                                                                                   \u001b[2m             \u001b[0m\n",
       "Akiko: Do you think COVID vaccines should be mandatory?                                               \u001b[2m             \u001b[0m\n",
       "                                                                                                      \u001b[2m             \u001b[0m\n",
       "Darius: Absolutely, mandatory COVID vaccines are crucial for achieving widespread immunity and        \u001b[2m             \u001b[0m\n",
       "preventing the spread of the virus, as evidenced by historical success with other mandatory           \u001b[2m             \u001b[0m\n",
       "vaccinations.                                                                                         \u001b[2m             \u001b[0m\n",
       "                                                                                                      \u001b[2m             \u001b[0m\n",
       "Akiko: Investor confidence, a key driver of the economy, was deeply shaken by the pandemic and will   \u001b[2m             \u001b[0m\n",
       "recover well past when the pandemic ends.                                                             \u001b[2m             \u001b[0m\n",
       "                                                                                                      \u001b[2m             \u001b[0m\n",
       "Darius: While investor confidence may have been initially shaken by the pandemic, historical data     \u001b[2m             \u001b[0m\n",
       "shows that markets have rebounded strongly after previous crises, indicating that recovery is not     \u001b[2m             \u001b[0m\n",
       "only possible but likely.                                                                             \u001b[2m             \u001b[0m\n",
       "                                                                                                      \u001b[2m             \u001b[0m\n",
       "Akiko: Mass vaccinations might not solve these ripple effects without additional economic recovery    \u001b[2m             \u001b[0m\n",
       "measures.                                                                                             \u001b[2m             \u001b[0m\n",
       "                                                                                                      \u001b[2m             \u001b[0m\n",
       "Darius: While mass vaccinations are a critical component of economic recovery, additional measures    \u001b[2m             \u001b[0m\n",
       "such as targeted financial assistance to affected industries and continued support for small          \u001b[2m             \u001b[0m\n",
       "businesses will be essential in addressing the broader economic impacts of the pandemic.              \u001b[2m             \u001b[0m\n",
       "\u001b[32m\"\"\u001b[0m\"                                                                                                   \u001b[2m             \u001b[0m\n",
       "                                                                                                      \u001b[2m             \u001b[0m\n",
       "Akiko was trying to make this a constructive converation, and to help Darius appreciate other points  \u001b[2m             \u001b[0m\n",
       "of view. What new perspectives did Akiko offer to them?  Was this successful?                         \u001b[2m             \u001b[0m\n"
      ]
     },
     "metadata": {},
     "output_type": "display_data"
    },
    {
     "data": {
      "text/html": [
       "<pre style=\"white-space:pre;overflow-x:auto;line-height:normal;font-family:Menlo,'DejaVu Sans Mono',consolas,'Courier New',monospace\">Response from LLM:                                                                                    <a href=\"file://d:\\Code\\jhu\\nlp\\hw7\\agents.py\" target=\"_blank\"><span style=\"color: #7f7f7f; text-decoration-color: #7f7f7f\">agents.py</span></a><span style=\"color: #7f7f7f; text-decoration-color: #7f7f7f\">:</span><a href=\"file://d:\\Code\\jhu\\nlp\\hw7\\agents.py#170\" target=\"_blank\"><span style=\"color: #7f7f7f; text-decoration-color: #7f7f7f\">170</span></a>\n",
       "<span style=\"color: #000000; text-decoration-color: #000000; background-color: #c0c0c0\">Akiko offered the perspective that mass vaccinations might not solve all the economic ripple effects </span> <span style=\"color: #7f7f7f; text-decoration-color: #7f7f7f\">             </span>\n",
       "<span style=\"color: #000000; text-decoration-color: #000000; background-color: #c0c0c0\">of the pandemic. She also emphasized the need for additional economic recovery measures such as </span>      <span style=\"color: #7f7f7f; text-decoration-color: #7f7f7f\">             </span>\n",
       "<span style=\"color: #000000; text-decoration-color: #000000; background-color: #c0c0c0\">targeted financial assistance and support for small businesses. This perspective added depth to the </span>  <span style=\"color: #7f7f7f; text-decoration-color: #7f7f7f\">             </span>\n",
       "<span style=\"color: #000000; text-decoration-color: #000000; background-color: #c0c0c0\">conversation, but it's difficult to determine its success without further context on Darius's </span>        <span style=\"color: #7f7f7f; text-decoration-color: #7f7f7f\">             </span>\n",
       "<span style=\"color: #000000; text-decoration-color: #000000; background-color: #c0c0c0\">response and subsequent discussion.</span>                                                                   <span style=\"color: #7f7f7f; text-decoration-color: #7f7f7f\">             </span>\n",
       "</pre>\n"
      ],
      "text/plain": [
       "Response from LLM:                                                                                    \u001b]8;id=477901;file://d:\\Code\\jhu\\nlp\\hw7\\agents.py\u001b\\\u001b[2magents.py\u001b[0m\u001b]8;;\u001b\\\u001b[2m:\u001b[0m\u001b]8;id=170373;file://d:\\Code\\jhu\\nlp\\hw7\\agents.py#170\u001b\\\u001b[2m170\u001b[0m\u001b]8;;\u001b\\\n",
       "\u001b[30;47mAkiko offered the perspective that mass vaccinations might not solve all the economic ripple effects \u001b[0m \u001b[2m             \u001b[0m\n",
       "\u001b[30;47mof the pandemic. She also emphasized the need for additional economic recovery measures such as \u001b[0m      \u001b[2m             \u001b[0m\n",
       "\u001b[30;47mtargeted financial assistance and support for small businesses. This perspective added depth to the \u001b[0m  \u001b[2m             \u001b[0m\n",
       "\u001b[30;47mconversation, but it's difficult to determine its success without further context on Darius's \u001b[0m        \u001b[2m             \u001b[0m\n",
       "\u001b[30;47mresponse and subsequent discussion.\u001b[0m                                                                   \u001b[2m             \u001b[0m\n"
      ]
     },
     "metadata": {},
     "output_type": "display_data"
    },
    {
     "data": {
      "text/html": [
       "<pre style=\"white-space:pre;overflow-x:auto;line-height:normal;font-family:Menlo,'DejaVu Sans Mono',consolas,'Courier New',monospace\">Calling LLM:                                                                                          <a href=\"file://d:\\Code\\jhu\\nlp\\hw7\\agents.py\" target=\"_blank\"><span style=\"color: #7f7f7f; text-decoration-color: #7f7f7f\">agents.py</span></a><span style=\"color: #7f7f7f; text-decoration-color: #7f7f7f\">:</span><a href=\"file://d:\\Code\\jhu\\nlp\\hw7\\agents.py#140\" target=\"_blank\"><span style=\"color: #7f7f7f; text-decoration-color: #7f7f7f\">140</span></a>\n",
       "<span style=\"color: #000000; text-decoration-color: #000000; background-color: #ffff00; font-weight: bold\">(</span><span style=\"color: #000000; text-decoration-color: #000000; background-color: #ffff00\">system</span><span style=\"color: #000000; text-decoration-color: #000000; background-color: #ffff00; font-weight: bold\">)</span> Your name is Judge Wise and you are a social scientist who studies and assesses political    <span style=\"color: #7f7f7f; text-decoration-color: #7f7f7f\">             </span>\n",
       "conversations.                                                                                        <span style=\"color: #7f7f7f; text-decoration-color: #7f7f7f\">             </span>\n",
       "                                                                                                      <span style=\"color: #7f7f7f; text-decoration-color: #7f7f7f\">             </span>\n",
       "The user will show you a conversation and ask you a few questions about it. Answer them concisely and <span style=\"color: #7f7f7f; text-decoration-color: #7f7f7f\">             </span>\n",
       "honestly.                                                                                             <span style=\"color: #7f7f7f; text-decoration-color: #7f7f7f\">             </span>\n",
       "<span style=\"color: #000000; text-decoration-color: #000000; background-color: #ffff00; font-weight: bold\">(</span><span style=\"color: #000000; text-decoration-color: #000000; background-color: #ffff00\">user</span><span style=\"color: #000000; text-decoration-color: #000000; background-color: #ffff00; font-weight: bold\">)</span> Here is a conversation that you observed among Darius and Akiko.                               <span style=\"color: #7f7f7f; text-decoration-color: #7f7f7f\">             </span>\n",
       "                                                                                                      <span style=\"color: #7f7f7f; text-decoration-color: #7f7f7f\">             </span>\n",
       "<span style=\"color: #008000; text-decoration-color: #008000\">\"\"</span>\"                                                                                                   <span style=\"color: #7f7f7f; text-decoration-color: #7f7f7f\">             </span>\n",
       "Akiko: Do you think COVID vaccines should be mandatory?                                               <span style=\"color: #7f7f7f; text-decoration-color: #7f7f7f\">             </span>\n",
       "                                                                                                      <span style=\"color: #7f7f7f; text-decoration-color: #7f7f7f\">             </span>\n",
       "Darius: Absolutely, mandatory COVID vaccines are crucial for achieving widespread immunity and        <span style=\"color: #7f7f7f; text-decoration-color: #7f7f7f\">             </span>\n",
       "preventing the spread of the virus, as evidenced by historical success with other mandatory           <span style=\"color: #7f7f7f; text-decoration-color: #7f7f7f\">             </span>\n",
       "vaccinations.                                                                                         <span style=\"color: #7f7f7f; text-decoration-color: #7f7f7f\">             </span>\n",
       "                                                                                                      <span style=\"color: #7f7f7f; text-decoration-color: #7f7f7f\">             </span>\n",
       "Akiko: Investor confidence, a key driver of the economy, was deeply shaken by the pandemic and will   <span style=\"color: #7f7f7f; text-decoration-color: #7f7f7f\">             </span>\n",
       "recover well past when the pandemic ends.                                                             <span style=\"color: #7f7f7f; text-decoration-color: #7f7f7f\">             </span>\n",
       "                                                                                                      <span style=\"color: #7f7f7f; text-decoration-color: #7f7f7f\">             </span>\n",
       "Darius: While investor confidence may have been initially shaken by the pandemic, historical data     <span style=\"color: #7f7f7f; text-decoration-color: #7f7f7f\">             </span>\n",
       "shows that markets have rebounded strongly after previous crises, indicating that recovery is not     <span style=\"color: #7f7f7f; text-decoration-color: #7f7f7f\">             </span>\n",
       "only possible but likely.                                                                             <span style=\"color: #7f7f7f; text-decoration-color: #7f7f7f\">             </span>\n",
       "                                                                                                      <span style=\"color: #7f7f7f; text-decoration-color: #7f7f7f\">             </span>\n",
       "Akiko: Mass vaccinations might not solve these ripple effects without additional economic recovery    <span style=\"color: #7f7f7f; text-decoration-color: #7f7f7f\">             </span>\n",
       "measures.                                                                                             <span style=\"color: #7f7f7f; text-decoration-color: #7f7f7f\">             </span>\n",
       "                                                                                                      <span style=\"color: #7f7f7f; text-decoration-color: #7f7f7f\">             </span>\n",
       "Darius: While mass vaccinations are a critical component of economic recovery, additional measures    <span style=\"color: #7f7f7f; text-decoration-color: #7f7f7f\">             </span>\n",
       "such as targeted financial assistance to affected industries and continued support for small          <span style=\"color: #7f7f7f; text-decoration-color: #7f7f7f\">             </span>\n",
       "businesses will be essential in addressing the broader economic impacts of the pandemic.              <span style=\"color: #7f7f7f; text-decoration-color: #7f7f7f\">             </span>\n",
       "<span style=\"color: #008000; text-decoration-color: #008000\">\"\"</span>\"                                                                                                   <span style=\"color: #7f7f7f; text-decoration-color: #7f7f7f\">             </span>\n",
       "                                                                                                      <span style=\"color: #7f7f7f; text-decoration-color: #7f7f7f\">             </span>\n",
       "Akiko was trying to make this a constructive converation, and to help Darius appreciate other points  <span style=\"color: #7f7f7f; text-decoration-color: #7f7f7f\">             </span>\n",
       "of view. What new perspectives did Akiko offer to them?  Was this successful?                         <span style=\"color: #7f7f7f; text-decoration-color: #7f7f7f\">             </span>\n",
       "<span style=\"color: #000000; text-decoration-color: #000000; background-color: #ffff00; font-weight: bold\">(</span><span style=\"color: #000000; text-decoration-color: #000000; background-color: #ffff00\">assistant</span><span style=\"color: #000000; text-decoration-color: #000000; background-color: #ffff00; font-weight: bold\">)</span> Akiko offered the perspective that mass vaccinations might not solve all the economic     <span style=\"color: #7f7f7f; text-decoration-color: #7f7f7f\">             </span>\n",
       "ripple effects of the pandemic. She also emphasized the need for additional economic recovery         <span style=\"color: #7f7f7f; text-decoration-color: #7f7f7f\">             </span>\n",
       "measures such as targeted financial assistance and support for small businesses. This perspective     <span style=\"color: #7f7f7f; text-decoration-color: #7f7f7f\">             </span>\n",
       "added depth to the conversation, but it's difficult to determine its success without further context  <span style=\"color: #7f7f7f; text-decoration-color: #7f7f7f\">             </span>\n",
       "on Darius's response and subsequent discussion.                                                       <span style=\"color: #7f7f7f; text-decoration-color: #7f7f7f\">             </span>\n",
       "<span style=\"color: #000000; text-decoration-color: #000000; background-color: #ffff00; font-weight: bold\">(</span><span style=\"color: #000000; text-decoration-color: #000000; background-color: #ffff00\">user</span><span style=\"color: #000000; text-decoration-color: #000000; background-color: #ffff00; font-weight: bold\">)</span> How skilled is Akiko at helping others become more open-minded?                                <span style=\"color: #7f7f7f; text-decoration-color: #7f7f7f\">             </span>\n",
       "                                                                                                      <span style=\"color: #7f7f7f; text-decoration-color: #7f7f7f\">             </span>\n",
       "Reply with a single integer in the range <span style=\"color: #008080; text-decoration-color: #008080; font-weight: bold\">1</span>-<span style=\"color: #008080; text-decoration-color: #008080; font-weight: bold\">10</span>. Say nothing else.                                      <span style=\"color: #7f7f7f; text-decoration-color: #7f7f7f\">             </span>\n",
       "</pre>\n"
      ],
      "text/plain": [
       "Calling LLM:                                                                                          \u001b]8;id=110027;file://d:\\Code\\jhu\\nlp\\hw7\\agents.py\u001b\\\u001b[2magents.py\u001b[0m\u001b]8;;\u001b\\\u001b[2m:\u001b[0m\u001b]8;id=603835;file://d:\\Code\\jhu\\nlp\\hw7\\agents.py#140\u001b\\\u001b[2m140\u001b[0m\u001b]8;;\u001b\\\n",
       "\u001b[1;30;103m(\u001b[0m\u001b[30;103msystem\u001b[0m\u001b[1;30;103m)\u001b[0m Your name is Judge Wise and you are a social scientist who studies and assesses political    \u001b[2m             \u001b[0m\n",
       "conversations.                                                                                        \u001b[2m             \u001b[0m\n",
       "                                                                                                      \u001b[2m             \u001b[0m\n",
       "The user will show you a conversation and ask you a few questions about it. Answer them concisely and \u001b[2m             \u001b[0m\n",
       "honestly.                                                                                             \u001b[2m             \u001b[0m\n",
       "\u001b[1;30;103m(\u001b[0m\u001b[30;103muser\u001b[0m\u001b[1;30;103m)\u001b[0m Here is a conversation that you observed among Darius and Akiko.                               \u001b[2m             \u001b[0m\n",
       "                                                                                                      \u001b[2m             \u001b[0m\n",
       "\u001b[32m\"\"\u001b[0m\"                                                                                                   \u001b[2m             \u001b[0m\n",
       "Akiko: Do you think COVID vaccines should be mandatory?                                               \u001b[2m             \u001b[0m\n",
       "                                                                                                      \u001b[2m             \u001b[0m\n",
       "Darius: Absolutely, mandatory COVID vaccines are crucial for achieving widespread immunity and        \u001b[2m             \u001b[0m\n",
       "preventing the spread of the virus, as evidenced by historical success with other mandatory           \u001b[2m             \u001b[0m\n",
       "vaccinations.                                                                                         \u001b[2m             \u001b[0m\n",
       "                                                                                                      \u001b[2m             \u001b[0m\n",
       "Akiko: Investor confidence, a key driver of the economy, was deeply shaken by the pandemic and will   \u001b[2m             \u001b[0m\n",
       "recover well past when the pandemic ends.                                                             \u001b[2m             \u001b[0m\n",
       "                                                                                                      \u001b[2m             \u001b[0m\n",
       "Darius: While investor confidence may have been initially shaken by the pandemic, historical data     \u001b[2m             \u001b[0m\n",
       "shows that markets have rebounded strongly after previous crises, indicating that recovery is not     \u001b[2m             \u001b[0m\n",
       "only possible but likely.                                                                             \u001b[2m             \u001b[0m\n",
       "                                                                                                      \u001b[2m             \u001b[0m\n",
       "Akiko: Mass vaccinations might not solve these ripple effects without additional economic recovery    \u001b[2m             \u001b[0m\n",
       "measures.                                                                                             \u001b[2m             \u001b[0m\n",
       "                                                                                                      \u001b[2m             \u001b[0m\n",
       "Darius: While mass vaccinations are a critical component of economic recovery, additional measures    \u001b[2m             \u001b[0m\n",
       "such as targeted financial assistance to affected industries and continued support for small          \u001b[2m             \u001b[0m\n",
       "businesses will be essential in addressing the broader economic impacts of the pandemic.              \u001b[2m             \u001b[0m\n",
       "\u001b[32m\"\"\u001b[0m\"                                                                                                   \u001b[2m             \u001b[0m\n",
       "                                                                                                      \u001b[2m             \u001b[0m\n",
       "Akiko was trying to make this a constructive converation, and to help Darius appreciate other points  \u001b[2m             \u001b[0m\n",
       "of view. What new perspectives did Akiko offer to them?  Was this successful?                         \u001b[2m             \u001b[0m\n",
       "\u001b[1;30;103m(\u001b[0m\u001b[30;103massistant\u001b[0m\u001b[1;30;103m)\u001b[0m Akiko offered the perspective that mass vaccinations might not solve all the economic     \u001b[2m             \u001b[0m\n",
       "ripple effects of the pandemic. She also emphasized the need for additional economic recovery         \u001b[2m             \u001b[0m\n",
       "measures such as targeted financial assistance and support for small businesses. This perspective     \u001b[2m             \u001b[0m\n",
       "added depth to the conversation, but it's difficult to determine its success without further context  \u001b[2m             \u001b[0m\n",
       "on Darius's response and subsequent discussion.                                                       \u001b[2m             \u001b[0m\n",
       "\u001b[1;30;103m(\u001b[0m\u001b[30;103muser\u001b[0m\u001b[1;30;103m)\u001b[0m How skilled is Akiko at helping others become more open-minded?                                \u001b[2m             \u001b[0m\n",
       "                                                                                                      \u001b[2m             \u001b[0m\n",
       "Reply with a single integer in the range \u001b[1;36m1\u001b[0m-\u001b[1;36m10\u001b[0m. Say nothing else.                                      \u001b[2m             \u001b[0m\n"
      ]
     },
     "metadata": {},
     "output_type": "display_data"
    },
    {
     "data": {
      "text/html": [
       "<pre style=\"white-space:pre;overflow-x:auto;line-height:normal;font-family:Menlo,'DejaVu Sans Mono',consolas,'Courier New',monospace\">Response from LLM:                                                                                    <a href=\"file://d:\\Code\\jhu\\nlp\\hw7\\agents.py\" target=\"_blank\"><span style=\"color: #7f7f7f; text-decoration-color: #7f7f7f\">agents.py</span></a><span style=\"color: #7f7f7f; text-decoration-color: #7f7f7f\">:</span><a href=\"file://d:\\Code\\jhu\\nlp\\hw7\\agents.py#170\" target=\"_blank\"><span style=\"color: #7f7f7f; text-decoration-color: #7f7f7f\">170</span></a>\n",
       "<span style=\"color: #008080; text-decoration-color: #008080; background-color: #c0c0c0; font-weight: bold\">7</span>                                                                                                     <span style=\"color: #7f7f7f; text-decoration-color: #7f7f7f\">             </span>\n",
       "</pre>\n"
      ],
      "text/plain": [
       "Response from LLM:                                                                                    \u001b]8;id=183934;file://d:\\Code\\jhu\\nlp\\hw7\\agents.py\u001b\\\u001b[2magents.py\u001b[0m\u001b]8;;\u001b\\\u001b[2m:\u001b[0m\u001b]8;id=273050;file://d:\\Code\\jhu\\nlp\\hw7\\agents.py#170\u001b\\\u001b[2m170\u001b[0m\u001b]8;;\u001b\\\n",
       "\u001b[1;36;47m7\u001b[0m                                                                                                     \u001b[2m             \u001b[0m\n"
      ]
     },
     "metadata": {},
     "output_type": "display_data"
    }
   ],
   "source": [
    "with LoggingContext(\"agents\", \"INFO\"):   # try that again and watch what's going on under the hood during eval\n",
    "    e1 = eval.eval_by_participant(characters.darius, \"Akiko\", akiko_darius)\n",
    "    e2 = eval.eval_by_observer(eval.judge, \"Akiko\", akiko_darius)\n"
   ]
  },
  {
   "cell_type": "code",
   "execution_count": null,
   "metadata": {},
   "outputs": [],
   "source": [
    "rich.print(\"Eval by participant:\\n\", e1)\n",
    "rich.print(\"Eval by observer:\\n\", e1)\n",
    "rich.print(\"Total eval:\\n\", e1 + e2)"
   ]
  },
  {
   "cell_type": "code",
   "execution_count": null,
   "metadata": {},
   "outputs": [],
   "source": [
    "(e1+e2).mean()   # show just the numeric part"
   ]
  },
  {
   "cell_type": "code",
   "execution_count": null,
   "metadata": {},
   "outputs": [],
   "source": [
    "from tracking import read_usage\n",
    "read_usage()"
   ]
  },
  {
   "cell_type": "code",
   "execution_count": null,
   "metadata": {},
   "outputs": [],
   "source": [
    "f\"You have spent a total of ${read_usage()['cost']:.2f} of NLP money so far\""
   ]
  },
  {
   "cell_type": "code",
   "execution_count": null,
   "metadata": {},
   "outputs": [],
   "source": [
    "with LoggingContext(\"eval\", \"INFO\"):     # makes eval.py show the simulated dialogues and results of evaluation\n",
    "    alice_eval = eval.eval_on_characters(argubots.alice)  "
   ]
  },
  {
   "cell_type": "code",
   "execution_count": null,
   "metadata": {},
   "outputs": [],
   "source": [
    "akiko_eval = eval.eval_on_characters(argubots.akiko, reps=1)  # quick eval of the Akiko argubot"
   ]
  },
  {
   "cell_type": "code",
   "execution_count": null,
   "metadata": {},
   "outputs": [],
   "source": [
    "# Although we didn't log the intermediate stuff, it's saved ...\n",
    "from eval import saved_evalsum, saved_dialogues\n",
    "\n",
    "rich.print(saved_evalsum['Akiko'].mean())\n",
    "saved_dialogues['Akiko'][2]"
   ]
  },
  {
   "cell_type": "code",
   "execution_count": null,
   "metadata": {},
   "outputs": [],
   "source": [
    "# quick eval of the Eve agent.\n",
    "# She's not designed as an argubot, but maybe her approach would pay off?\n",
    "eve_eval = eval.eval_on_characters(agents.eve, reps=1)  \n",
    "rich.print(saved_evalsum['Eve'].mean())\n",
    "saved_dialogues['Eve']"
   ]
  },
  {
   "cell_type": "code",
   "execution_count": null,
   "metadata": {},
   "outputs": [],
   "source": [
    "import rich\n",
    "from eval import saved_evalsum, saved_dialogues\n",
    "rich.print(saved_evalsum['Eve'].mean())\n",
    "saved_dialogues['Eve']"
   ]
  },
  {
   "cell_type": "code",
   "execution_count": null,
   "metadata": {},
   "outputs": [],
   "source": []
  }
 ],
 "metadata": {
  "kernelspec": {
   "display_name": "nlp-class",
   "language": "python",
   "name": "python3"
  },
  "language_info": {
   "codemirror_mode": {
    "name": "ipython",
    "version": 3
   },
   "file_extension": ".py",
   "mimetype": "text/x-python",
   "name": "python",
   "nbconvert_exporter": "python",
   "pygments_lexer": "ipython3",
   "version": "3.11.7"
  }
 },
 "nbformat": 4,
 "nbformat_minor": 2
}
